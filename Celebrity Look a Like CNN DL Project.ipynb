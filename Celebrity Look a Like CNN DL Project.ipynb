{
 "cells": [
  {
   "attachments": {},
   "cell_type": "markdown",
   "metadata": {},
   "source": [
    "# Celebrity Look a Like CNN DL Project\n",
    "\n",
    "#### Mohamed Youssef - 211001821\n"
   ]
  },
  {
   "attachments": {},
   "cell_type": "markdown",
   "metadata": {},
   "source": [
    "## Index"
   ]
  },
  {
   "attachments": {},
   "cell_type": "markdown",
   "metadata": {},
   "source": [
    "* [Including Necessary Libraries](#libs)\n",
    "<br>\n",
    "    * [Other Utilites](#uti)\n",
    "<br>\n",
    "* [Data Preprocessing](#dataset)\n",
    "<br>\n",
    "    * [Reading Meta Data](#metadata)\n",
    "    * [Creating Data Frame](#dataframe)\n",
    "    * [Data Cleaning](#clean)\n"
   ]
  },
  {
   "attachments": {},
   "cell_type": "markdown",
   "metadata": {},
   "source": [
    "## Including Necessary Libraries and Initializing Utilites<a id='libs'></a>\n"
   ]
  },
  {
   "cell_type": "code",
   "execution_count": 271,
   "metadata": {},
   "outputs": [],
   "source": [
    "# Python built-in libraries\n",
    "from datetime import datetime, timedelta\n",
    "import time\n",
    "import warnings\n",
    "import os\n",
    "\n",
    "# Libraries for preprocessing and visualizing the data\n",
    "import scipy.io\n",
    "import numpy as np\n",
    "import pandas as pd\n",
    "import matplotlib.pyplot as plt\n",
    "\n",
    "# OpenCV library for image processing\n",
    "import cv2\n",
    "\n",
    "# Tensorflow and Keras libraries for deep learning models\n",
    "import tensorflow as tf\n",
    "\n",
    "import keras\n",
    "from keras.preprocessing import image\n",
    "from keras.callbacks import ModelCheckpoint, EarlyStopping\n",
    "from keras.layers import (\n",
    "    Dense,\n",
    "    Activation,\n",
    "    Dropout,\n",
    "    Flatten,\n",
    "    Input,\n",
    "    Convolution2D,\n",
    "    ZeroPadding2D,\n",
    "    MaxPooling2D,\n",
    "    Activation,\n",
    ")\n",
    "from keras.layers import Conv2D, AveragePooling2D\n",
    "from keras.models import Model, Sequential\n",
    "from keras import metrics\n",
    "from keras.models import model_from_json\n",
    "\n",
    "\n",
    "# Sklearn train test split function\n",
    "from sklearn.model_selection import train_test_split"
   ]
  },
  {
   "cell_type": "markdown",
   "metadata": {},
   "source": [
    "### Other Utilites<a id='uti'></a>"
   ]
  },
  {
   "cell_type": "code",
   "execution_count": 272,
   "metadata": {},
   "outputs": [],
   "source": [
    "# Disabling warnings\n",
    "def warn(*args, **kwargs):\n",
    "    pass\n",
    "\n",
    "\n",
    "warnings.warn = warn"
   ]
  },
  {
   "cell_type": "code",
   "execution_count": 273,
   "metadata": {},
   "outputs": [],
   "source": [
    "# Setting the path to the current directory\n",
    "path = os.getcwd()"
   ]
  },
  {
   "cell_type": "code",
   "execution_count": 274,
   "metadata": {},
   "outputs": [
    {
     "name": "stdout",
     "output_type": "stream",
     "text": [
      "Num GPUs Available:  []\n"
     ]
    }
   ],
   "source": [
    "# Configuring the GPU\n",
    "# Setting the second GPU as the default GPU for training\n",
    "# os.environ[\"CUDA_VISIBLE_DEVICES\"] = \"1\"\n",
    "# Setting the configuration of the GPU\n",
    "\n",
    "gpus = tf.config.experimental.list_physical_devices(\"gpus\")\n",
    "\n",
    "print(\"Num GPUs Available: \", gpus)\n",
    "\n",
    "if gpus:\n",
    "    try:\n",
    "        tf.config.experimental.set_visible_devices(gpus[1], \"GPU\")\n",
    "        tf.config.experimental.set_memory_growth(gpus[1], True)\n",
    "\n",
    "    except RuntimeError as e:\n",
    "        print(e)"
   ]
  },
  {
   "attachments": {},
   "cell_type": "markdown",
   "metadata": {},
   "source": [
    "## Data Preprocessing <a id='dataset'></a>"
   ]
  },
  {
   "cell_type": "markdown",
   "metadata": {},
   "source": [
    "### Reading Meta Data <a id='metadata'></a>"
   ]
  },
  {
   "cell_type": "code",
   "execution_count": 275,
   "metadata": {},
   "outputs": [],
   "source": [
    "# Loading the mat file containing the data\n",
    "data_mat = scipy.io.loadmat(path + \"/Data/imdb_crop/imdb_crop/imdb.mat\")"
   ]
  },
  {
   "cell_type": "code",
   "execution_count": 276,
   "metadata": {},
   "outputs": [
    {
     "name": "stdout",
     "output_type": "stream",
     "text": [
      "Total no. of records:  460723\n"
     ]
    }
   ],
   "source": [
    "# Getting the total number of records in the data\n",
    "records = data_mat[\"imdb\"][0][0][0].shape[1]\n",
    "print(\"Total no. of records: \", records)"
   ]
  },
  {
   "cell_type": "code",
   "execution_count": 277,
   "metadata": {},
   "outputs": [
    {
     "name": "stdout",
     "output_type": "stream",
     "text": [
      "Total no. of features:  10\n"
     ]
    }
   ],
   "source": [
    "# Getting the column names of the data\n",
    "features = data_mat[\"imdb\"][0][0].dtype\n",
    "features = list(features.names)\n",
    "print(\"Total no. of features: \", len(features))"
   ]
  },
  {
   "cell_type": "code",
   "execution_count": 278,
   "metadata": {},
   "outputs": [
    {
     "name": "stdout",
     "output_type": "stream",
     "text": [
      "Current Features Names:\n",
      " ['dob', 'photo_taken', 'full_path', 'gender', 'name', 'face_location', 'face_score', 'second_face_score', 'celeb_names', 'celeb_id']\n",
      "New Features Names:\n",
      " ['Date of Birth', 'Photo Taken Date', 'Full Img Path', 'Gender', 'Celebrity Name', 'Face Location', 'Face Score', 'Second Face Score', 'Celeb Names', 'Celeb ID']\n"
     ]
    }
   ],
   "source": [
    "# Rename the columns of the data\n",
    "print(\"Current Features Names:\\n\", features)\n",
    "features[0] = \"Date of Birth\"\n",
    "features[1] = \"Photo Taken Date\"\n",
    "features[2] = \"Full Img Path\"\n",
    "features[3] = \"Gender\"\n",
    "features[4] = \"Celebrity Name\"\n",
    "features[5] = \"Face Location\"\n",
    "features[6] = \"Face Score\"\n",
    "features[7] = \"Second Face Score\"\n",
    "features[8] = \"Celeb Names\"\n",
    "features[9] = \"Celeb ID\"\n",
    "print(\"New Features Names:\\n\", features)"
   ]
  },
  {
   "cell_type": "markdown",
   "metadata": {},
   "source": [
    "### Creating Data Frame <a id='dataframe'></a>"
   ]
  },
  {
   "cell_type": "code",
   "execution_count": 279,
   "metadata": {},
   "outputs": [],
   "source": [
    "# Creating a dataframe to store the data\n",
    "data_df = pd.DataFrame(index=(range(0, records)), columns=features)"
   ]
  },
  {
   "cell_type": "code",
   "execution_count": 280,
   "metadata": {},
   "outputs": [],
   "source": [
    "# Extracting the data from the mat file and storing it in a dataframe\n",
    "for i in data_mat:\n",
    "    if i == \"imdb\":\n",
    "        current_array = data_mat[i][0][0]\n",
    "        for j in range(len(current_array)):\n",
    "            data_df[features[j]] = pd.DataFrame(current_array[j][0])"
   ]
  },
  {
   "cell_type": "code",
   "execution_count": 281,
   "metadata": {},
   "outputs": [
    {
     "data": {
      "text/html": [
       "<div>\n",
       "<style scoped>\n",
       "    .dataframe tbody tr th:only-of-type {\n",
       "        vertical-align: middle;\n",
       "    }\n",
       "\n",
       "    .dataframe tbody tr th {\n",
       "        vertical-align: top;\n",
       "    }\n",
       "\n",
       "    .dataframe thead th {\n",
       "        text-align: right;\n",
       "    }\n",
       "</style>\n",
       "<table border=\"1\" class=\"dataframe\">\n",
       "  <thead>\n",
       "    <tr style=\"text-align: right;\">\n",
       "      <th></th>\n",
       "      <th>Date of Birth</th>\n",
       "      <th>Photo Taken Date</th>\n",
       "      <th>Full Img Path</th>\n",
       "      <th>Gender</th>\n",
       "      <th>Celebrity Name</th>\n",
       "      <th>Face Location</th>\n",
       "      <th>Face Score</th>\n",
       "      <th>Second Face Score</th>\n",
       "      <th>Celeb Names</th>\n",
       "      <th>Celeb ID</th>\n",
       "    </tr>\n",
       "  </thead>\n",
       "  <tbody>\n",
       "    <tr>\n",
       "      <th>249712</th>\n",
       "      <td>717665</td>\n",
       "      <td>2008</td>\n",
       "      <td>[13/nm0226813_rm4227306496_1964-11-24_2008.jpg]</td>\n",
       "      <td>1.0</td>\n",
       "      <td>[Garret Dillahunt]</td>\n",
       "      <td>[[343.75, 35.75, 382.8, 74.8]]</td>\n",
       "      <td>2.535535</td>\n",
       "      <td>NaN</td>\n",
       "      <td>NaN</td>\n",
       "      <td>6625</td>\n",
       "    </tr>\n",
       "    <tr>\n",
       "      <th>414024</th>\n",
       "      <td>723401</td>\n",
       "      <td>2012</td>\n",
       "      <td>[37/nm4083737_rm3029578752_1980-8-8_2012.jpg]</td>\n",
       "      <td>1.0</td>\n",
       "      <td>[Tobias Santelmann]</td>\n",
       "      <td>[[1, 1, 2683, 4540]]</td>\n",
       "      <td>-inf</td>\n",
       "      <td>NaN</td>\n",
       "      <td>NaN</td>\n",
       "      <td>19015</td>\n",
       "    </tr>\n",
       "    <tr>\n",
       "      <th>376585</th>\n",
       "      <td>708685</td>\n",
       "      <td>2014</td>\n",
       "      <td>[81/nm0662981_rm3337275136_1940-4-24_2014.jpg]</td>\n",
       "      <td>1.0</td>\n",
       "      <td>[Michael Parks]</td>\n",
       "      <td>[[460.8, 346.112, 606.208, 491.52]]</td>\n",
       "      <td>2.569340</td>\n",
       "      <td>1.791728</td>\n",
       "      <td>NaN</td>\n",
       "      <td>13672</td>\n",
       "    </tr>\n",
       "    <tr>\n",
       "      <th>316367</th>\n",
       "      <td>724334</td>\n",
       "      <td>2010</td>\n",
       "      <td>[18/nm0544718_rm2410592768_1983-2-27_2010.jpg]</td>\n",
       "      <td>0.0</td>\n",
       "      <td>[Kate Mara]</td>\n",
       "      <td>[[980.7022401101137, 227.89128617925704, 1656....</td>\n",
       "      <td>3.176025</td>\n",
       "      <td>NaN</td>\n",
       "      <td>NaN</td>\n",
       "      <td>10569</td>\n",
       "    </tr>\n",
       "    <tr>\n",
       "      <th>228689</th>\n",
       "      <td>728396</td>\n",
       "      <td>2007</td>\n",
       "      <td>[80/nm1519680_rm641439744_1994-4-12_2007.jpg]</td>\n",
       "      <td>0.0</td>\n",
       "      <td>[Saoirse Ronan]</td>\n",
       "      <td>[[1, 1, 323, 485]]</td>\n",
       "      <td>-inf</td>\n",
       "      <td>NaN</td>\n",
       "      <td>NaN</td>\n",
       "      <td>17164</td>\n",
       "    </tr>\n",
       "  </tbody>\n",
       "</table>\n",
       "</div>"
      ],
      "text/plain": [
       "        Date of Birth  Photo Taken Date  \\\n",
       "249712         717665              2008   \n",
       "414024         723401              2012   \n",
       "376585         708685              2014   \n",
       "316367         724334              2010   \n",
       "228689         728396              2007   \n",
       "\n",
       "                                          Full Img Path  Gender  \\\n",
       "249712  [13/nm0226813_rm4227306496_1964-11-24_2008.jpg]     1.0   \n",
       "414024    [37/nm4083737_rm3029578752_1980-8-8_2012.jpg]     1.0   \n",
       "376585   [81/nm0662981_rm3337275136_1940-4-24_2014.jpg]     1.0   \n",
       "316367   [18/nm0544718_rm2410592768_1983-2-27_2010.jpg]     0.0   \n",
       "228689    [80/nm1519680_rm641439744_1994-4-12_2007.jpg]     0.0   \n",
       "\n",
       "             Celebrity Name  \\\n",
       "249712   [Garret Dillahunt]   \n",
       "414024  [Tobias Santelmann]   \n",
       "376585      [Michael Parks]   \n",
       "316367          [Kate Mara]   \n",
       "228689      [Saoirse Ronan]   \n",
       "\n",
       "                                            Face Location  Face Score  \\\n",
       "249712                     [[343.75, 35.75, 382.8, 74.8]]    2.535535   \n",
       "414024                               [[1, 1, 2683, 4540]]        -inf   \n",
       "376585                [[460.8, 346.112, 606.208, 491.52]]    2.569340   \n",
       "316367  [[980.7022401101137, 227.89128617925704, 1656....    3.176025   \n",
       "228689                                 [[1, 1, 323, 485]]        -inf   \n",
       "\n",
       "        Second Face Score Celeb Names  Celeb ID  \n",
       "249712                NaN         NaN      6625  \n",
       "414024                NaN         NaN     19015  \n",
       "376585           1.791728         NaN     13672  \n",
       "316367                NaN         NaN     10569  \n",
       "228689                NaN         NaN     17164  "
      ]
     },
     "execution_count": 281,
     "metadata": {},
     "output_type": "execute_result"
    }
   ],
   "source": [
    "# Displaying 5 random rows of the data\n",
    "data_df.sample(5)"
   ]
  },
  {
   "cell_type": "code",
   "execution_count": 282,
   "metadata": {},
   "outputs": [
    {
     "name": "stderr",
     "output_type": "stream",
     "text": [
      "C:\\Users\\Momad\\AppData\\Roaming\\Python\\Python311\\site-packages\\pandas\\core\\nanops.py:1010: RuntimeWarning: invalid value encountered in subtract\n",
      "  sqr = _ensure_numeric((avg - values) ** 2)\n"
     ]
    },
    {
     "data": {
      "text/html": [
       "<div>\n",
       "<style scoped>\n",
       "    .dataframe tbody tr th:only-of-type {\n",
       "        vertical-align: middle;\n",
       "    }\n",
       "\n",
       "    .dataframe tbody tr th {\n",
       "        vertical-align: top;\n",
       "    }\n",
       "\n",
       "    .dataframe thead th {\n",
       "        text-align: right;\n",
       "    }\n",
       "</style>\n",
       "<table border=\"1\" class=\"dataframe\">\n",
       "  <thead>\n",
       "    <tr style=\"text-align: right;\">\n",
       "      <th></th>\n",
       "      <th>Date of Birth</th>\n",
       "      <th>Photo Taken Date</th>\n",
       "      <th>Gender</th>\n",
       "      <th>Face Score</th>\n",
       "      <th>Second Face Score</th>\n",
       "      <th>Celeb ID</th>\n",
       "    </tr>\n",
       "  </thead>\n",
       "  <tbody>\n",
       "    <tr>\n",
       "      <th>count</th>\n",
       "      <td>460723.000000</td>\n",
       "      <td>460723.000000</td>\n",
       "      <td>452261.000000</td>\n",
       "      <td>4.607230e+05</td>\n",
       "      <td>213797.000000</td>\n",
       "      <td>460723.000000</td>\n",
       "    </tr>\n",
       "    <tr>\n",
       "      <th>mean</th>\n",
       "      <td>718987.731774</td>\n",
       "      <td>2005.461555</td>\n",
       "      <td>0.581996</td>\n",
       "      <td>-inf</td>\n",
       "      <td>2.452904</td>\n",
       "      <td>10116.802404</td>\n",
       "    </tr>\n",
       "    <tr>\n",
       "      <th>std</th>\n",
       "      <td>13253.963535</td>\n",
       "      <td>9.054475</td>\n",
       "      <td>0.493231</td>\n",
       "      <td>NaN</td>\n",
       "      <td>1.064432</td>\n",
       "      <td>5742.153266</td>\n",
       "    </tr>\n",
       "    <tr>\n",
       "      <th>min</th>\n",
       "      <td>47.000000</td>\n",
       "      <td>1961.000000</td>\n",
       "      <td>0.000000</td>\n",
       "      <td>-inf</td>\n",
       "      <td>0.730926</td>\n",
       "      <td>1.000000</td>\n",
       "    </tr>\n",
       "    <tr>\n",
       "      <th>25%</th>\n",
       "      <td>716370.000000</td>\n",
       "      <td>2004.000000</td>\n",
       "      <td>0.000000</td>\n",
       "      <td>1.757891e+00</td>\n",
       "      <td>1.583692</td>\n",
       "      <td>5294.000000</td>\n",
       "    </tr>\n",
       "    <tr>\n",
       "      <th>50%</th>\n",
       "      <td>719935.000000</td>\n",
       "      <td>2008.000000</td>\n",
       "      <td>1.000000</td>\n",
       "      <td>2.980097e+00</td>\n",
       "      <td>2.355163</td>\n",
       "      <td>10066.000000</td>\n",
       "    </tr>\n",
       "    <tr>\n",
       "      <th>75%</th>\n",
       "      <td>723073.000000</td>\n",
       "      <td>2011.000000</td>\n",
       "      <td>1.000000</td>\n",
       "      <td>4.006376e+00</td>\n",
       "      <td>3.228071</td>\n",
       "      <td>14922.000000</td>\n",
       "    </tr>\n",
       "    <tr>\n",
       "      <th>max</th>\n",
       "      <td>734963.000000</td>\n",
       "      <td>2015.000000</td>\n",
       "      <td>1.000000</td>\n",
       "      <td>7.381689e+00</td>\n",
       "      <td>6.395435</td>\n",
       "      <td>20284.000000</td>\n",
       "    </tr>\n",
       "  </tbody>\n",
       "</table>\n",
       "</div>"
      ],
      "text/plain": [
       "       Date of Birth  Photo Taken Date         Gender    Face Score  \\\n",
       "count  460723.000000     460723.000000  452261.000000  4.607230e+05   \n",
       "mean   718987.731774       2005.461555       0.581996          -inf   \n",
       "std     13253.963535          9.054475       0.493231           NaN   \n",
       "min        47.000000       1961.000000       0.000000          -inf   \n",
       "25%    716370.000000       2004.000000       0.000000  1.757891e+00   \n",
       "50%    719935.000000       2008.000000       1.000000  2.980097e+00   \n",
       "75%    723073.000000       2011.000000       1.000000  4.006376e+00   \n",
       "max    734963.000000       2015.000000       1.000000  7.381689e+00   \n",
       "\n",
       "       Second Face Score       Celeb ID  \n",
       "count      213797.000000  460723.000000  \n",
       "mean            2.452904   10116.802404  \n",
       "std             1.064432    5742.153266  \n",
       "min             0.730926       1.000000  \n",
       "25%             1.583692    5294.000000  \n",
       "50%             2.355163   10066.000000  \n",
       "75%             3.228071   14922.000000  \n",
       "max             6.395435   20284.000000  "
      ]
     },
     "execution_count": 282,
     "metadata": {},
     "output_type": "execute_result"
    }
   ],
   "source": [
    "# Describing the data\n",
    "data_df.describe()"
   ]
  },
  {
   "cell_type": "code",
   "execution_count": 283,
   "metadata": {},
   "outputs": [
    {
     "name": "stdout",
     "output_type": "stream",
     "text": [
      "<class 'pandas.core.frame.DataFrame'>\n",
      "RangeIndex: 460723 entries, 0 to 460722\n",
      "Data columns (total 10 columns):\n",
      " #   Column             Non-Null Count   Dtype  \n",
      "---  ------             --------------   -----  \n",
      " 0   Date of Birth      460723 non-null  int32  \n",
      " 1   Photo Taken Date   460723 non-null  uint16 \n",
      " 2   Full Img Path      460723 non-null  object \n",
      " 3   Gender             452261 non-null  float64\n",
      " 4   Celebrity Name     460723 non-null  object \n",
      " 5   Face Location      460723 non-null  object \n",
      " 6   Face Score         460723 non-null  float64\n",
      " 7   Second Face Score  213797 non-null  float64\n",
      " 8   Celeb Names        20284 non-null   object \n",
      " 9   Celeb ID           460723 non-null  uint16 \n",
      "dtypes: float64(3), int32(1), object(4), uint16(2)\n",
      "memory usage: 28.1+ MB\n"
     ]
    }
   ],
   "source": [
    "# Checking for null values in the data\n",
    "data_df.info()"
   ]
  },
  {
   "cell_type": "markdown",
   "metadata": {},
   "source": [
    "### Data Cleaning <a id='clean'></a>"
   ]
  },
  {
   "cell_type": "code",
   "execution_count": 284,
   "metadata": {},
   "outputs": [
    {
     "name": "stdout",
     "output_type": "stream",
     "text": [
      "Total no. of records with no face detected removed: 62302\n",
      "Total no. of records after removing records with no face detected: 398421\n"
     ]
    }
   ],
   "source": [
    "# Removing pictures with no face detected\n",
    "data_df = data_df[data_df[\"Face Score\"] != -np.inf]\n",
    "print(\"Total no. of records with no face detected removed:\", records - len(data_df))\n",
    "records = len(data_df)  # Updating the total number of records\n",
    "print(\"Total no. of records after removing records with no face detected:\", records)"
   ]
  },
  {
   "cell_type": "code",
   "execution_count": 285,
   "metadata": {},
   "outputs": [
    {
     "name": "stdout",
     "output_type": "stream",
     "text": [
      "Total no. of records with more than one face detected removed: 213797\n",
      "Total no. of records after removing pictures with more the one face: 184624\n"
     ]
    }
   ],
   "source": [
    "# Removing pictures with more than one face detected\n",
    "data_df = data_df[data_df[\"Second Face Score\"].isna()]\n",
    "print(\n",
    "    \"Total no. of records with more than one face detected removed:\",\n",
    "    records - len(data_df),\n",
    ")\n",
    "records = len(data_df)  # Updating the total number of records\n",
    "print(\"Total no. of records after removing pictures with more the one face:\", records)"
   ]
  },
  {
   "cell_type": "code",
   "execution_count": 286,
   "metadata": {},
   "outputs": [
    {
     "name": "stdout",
     "output_type": "stream",
     "text": [
      "Total no. of records with low face scores removed: 89390\n",
      "Total no. of records after removing pictures with low face scores: 95234\n"
     ]
    }
   ],
   "source": [
    "# Removing pictures with low face scores\n",
    "data_df = data_df[data_df[\"Face Score\"] >= 3]\n",
    "print(\n",
    "    \"Total no. of records with low face scores removed:\",\n",
    "    records - len(data_df),\n",
    ")\n",
    "records = len(data_df)  # Updating the total number of records\n",
    "print(\"Total no. of records after removing pictures with low face scores:\", records)"
   ]
  },
  {
   "cell_type": "code",
   "execution_count": 287,
   "metadata": {},
   "outputs": [],
   "source": [
    "# Creating a function to extract first index of an array\n",
    "def extract_data(arr):\n",
    "    return arr[0]"
   ]
  },
  {
   "cell_type": "code",
   "execution_count": 288,
   "metadata": {},
   "outputs": [],
   "source": [
    "# Extracting the data from the array columns of the dataframe\n",
    "data_df[\"Celebrity Name\"] = data_df[\"Celebrity Name\"].apply(extract_data)\n",
    "data_df[\"Full Img Path\"] = data_df[\"Full Img Path\"].apply(extract_data)"
   ]
  },
  {
   "cell_type": "code",
   "execution_count": 289,
   "metadata": {},
   "outputs": [],
   "source": [
    "# Dropping the unnecessary columns from the dataframe\n",
    "data_df.drop(\n",
    "    [\"Celeb ID\", \"Celeb Names\", \"Face Score\", \"Second Face Score\"], axis=1, inplace=True\n",
    ")"
   ]
  },
  {
   "cell_type": "code",
   "execution_count": 290,
   "metadata": {},
   "outputs": [],
   "source": [
    "# Creating a function to convert the matlab serial date number to python date time object\n",
    "def convert_date(date_number):\n",
    "    str_date = str(date_number)\n",
    "    # If the length of the string is 4, then the date is in the format YYYY\n",
    "    if len(str_date) == 4:\n",
    "        full_date = datetime.strptime(str_date, \"%Y\")\n",
    "        return full_date.strftime(\"%Y\")\n",
    "    else:\n",
    "        try:\n",
    "            date_time = (\n",
    "                datetime.fromordinal(int(date_number))\n",
    "                + timedelta(days=date_number % 1)\n",
    "                - timedelta(days=366)\n",
    "            )\n",
    "            return date_time\n",
    "        except OverflowError:\n",
    "            return pd.NaT"
   ]
  },
  {
   "cell_type": "code",
   "execution_count": 291,
   "metadata": {},
   "outputs": [],
   "source": [
    "# Converting the matlab serial date number to python date time object\n",
    "data_df[\"Date of Birth\"] = data_df[\"Date of Birth\"].apply(convert_date)"
   ]
  },
  {
   "cell_type": "code",
   "execution_count": 292,
   "metadata": {},
   "outputs": [],
   "source": [
    "# Converting the Photo Taken Date to python year date time object\n",
    "data_df[\"Photo Taken Date\"] = data_df[\"Photo Taken Date\"].apply(convert_date)"
   ]
  },
  {
   "cell_type": "code",
   "execution_count": 293,
   "metadata": {},
   "outputs": [],
   "source": [
    "# Creating a function to calculate the age of the celebrity\n",
    "def calculate_age(born, photo_taken):\n",
    "    photo_taken = datetime.strptime(photo_taken, \"%Y\")\n",
    "    try:\n",
    "        return (\n",
    "            photo_taken.year\n",
    "            - born.year\n",
    "            - ((photo_taken.month, photo_taken.day) < (born.month, born.day))\n",
    "        )\n",
    "    except AttributeError:\n",
    "        return np.nan"
   ]
  },
  {
   "cell_type": "code",
   "execution_count": 294,
   "metadata": {},
   "outputs": [],
   "source": [
    "# Calculating the age of the celebrity\n",
    "data_df[\"Age at Photo\"] = data_df.apply(\n",
    "    lambda x: calculate_age(x[\"Date of Birth\"], x[\"Photo Taken Date\"]), axis=1\n",
    ")\n",
    "# Changing the datatype of the age column to integer\n",
    "data_df[\"Age at Photo\"] = data_df[\"Age at Photo\"].astype(\"Int64\")"
   ]
  },
  {
   "cell_type": "code",
   "execution_count": 295,
   "metadata": {},
   "outputs": [
    {
     "name": "stdout",
     "output_type": "stream",
     "text": [
      "Total no. of records after removing null values: 93500\n"
     ]
    }
   ],
   "source": [
    "# Dropping any rows with null values\n",
    "data_df.dropna(inplace=True)\n",
    "print(\"Total no. of records after removing null values:\", len(data_df))"
   ]
  },
  {
   "cell_type": "code",
   "execution_count": 296,
   "metadata": {},
   "outputs": [],
   "source": [
    "# Resetting the index of the dataframe\n",
    "data_df.reset_index(drop=True, inplace=True)"
   ]
  },
  {
   "cell_type": "code",
   "execution_count": 297,
   "metadata": {},
   "outputs": [
    {
     "data": {
      "text/html": [
       "<div>\n",
       "<style scoped>\n",
       "    .dataframe tbody tr th:only-of-type {\n",
       "        vertical-align: middle;\n",
       "    }\n",
       "\n",
       "    .dataframe tbody tr th {\n",
       "        vertical-align: top;\n",
       "    }\n",
       "\n",
       "    .dataframe thead th {\n",
       "        text-align: right;\n",
       "    }\n",
       "</style>\n",
       "<table border=\"1\" class=\"dataframe\">\n",
       "  <thead>\n",
       "    <tr style=\"text-align: right;\">\n",
       "      <th></th>\n",
       "      <th>Date of Birth</th>\n",
       "      <th>Photo Taken Date</th>\n",
       "      <th>Full Img Path</th>\n",
       "      <th>Gender</th>\n",
       "      <th>Celebrity Name</th>\n",
       "      <th>Face Location</th>\n",
       "      <th>Age at Photo</th>\n",
       "    </tr>\n",
       "  </thead>\n",
       "  <tbody>\n",
       "    <tr>\n",
       "      <th>89276</th>\n",
       "      <td>1982-11-30</td>\n",
       "      <td>2011</td>\n",
       "      <td>46/nm0193846_rm2782044416_1982-11-30_2011.jpg</td>\n",
       "      <td>0.0</td>\n",
       "      <td>Elisha Cuthbert</td>\n",
       "      <td>[[387.58393455260597, 72.80212735862438, 467.6...</td>\n",
       "      <td>28</td>\n",
       "    </tr>\n",
       "    <tr>\n",
       "      <th>49705</th>\n",
       "      <td>1966-04-18</td>\n",
       "      <td>2001</td>\n",
       "      <td>67/nm0919867_rm1079810048_1966-4-18_2001.jpg</td>\n",
       "      <td>1.0</td>\n",
       "      <td>Frederick Weller</td>\n",
       "      <td>[[288.7828876545509, 100.86100440158292, 400.9...</td>\n",
       "      <td>34</td>\n",
       "    </tr>\n",
       "    <tr>\n",
       "      <th>37895</th>\n",
       "      <td>1971-08-14</td>\n",
       "      <td>2011</td>\n",
       "      <td>56/nm0100556_rm1469102080_1971-8-14_2011.jpg</td>\n",
       "      <td>1.0</td>\n",
       "      <td>Raoul Bova</td>\n",
       "      <td>[[788.48, 231.424, 1081.344, 524.288]]</td>\n",
       "      <td>39</td>\n",
       "    </tr>\n",
       "    <tr>\n",
       "      <th>76760</th>\n",
       "      <td>1980-12-03</td>\n",
       "      <td>2010</td>\n",
       "      <td>87/nm1564087_rm1401523968_1980-12-3_2010.jpg</td>\n",
       "      <td>0.0</td>\n",
       "      <td>Jenna Dewan Tatum</td>\n",
       "      <td>[[113.708, 34.06, 150.912, 71.264]]</td>\n",
       "      <td>29</td>\n",
       "    </tr>\n",
       "    <tr>\n",
       "      <th>27825</th>\n",
       "      <td>1981-04-28</td>\n",
       "      <td>2007</td>\n",
       "      <td>95/nm0004695_rm4081948928_1981-4-28_2007.jpg</td>\n",
       "      <td>0.0</td>\n",
       "      <td>Jessica Alba</td>\n",
       "      <td>[[134.13730584594, 67.38965292297, 283.6775249...</td>\n",
       "      <td>25</td>\n",
       "    </tr>\n",
       "  </tbody>\n",
       "</table>\n",
       "</div>"
      ],
      "text/plain": [
       "      Date of Birth Photo Taken Date  \\\n",
       "89276    1982-11-30             2011   \n",
       "49705    1966-04-18             2001   \n",
       "37895    1971-08-14             2011   \n",
       "76760    1980-12-03             2010   \n",
       "27825    1981-04-28             2007   \n",
       "\n",
       "                                       Full Img Path  Gender  \\\n",
       "89276  46/nm0193846_rm2782044416_1982-11-30_2011.jpg     0.0   \n",
       "49705   67/nm0919867_rm1079810048_1966-4-18_2001.jpg     1.0   \n",
       "37895   56/nm0100556_rm1469102080_1971-8-14_2011.jpg     1.0   \n",
       "76760   87/nm1564087_rm1401523968_1980-12-3_2010.jpg     0.0   \n",
       "27825   95/nm0004695_rm4081948928_1981-4-28_2007.jpg     0.0   \n",
       "\n",
       "          Celebrity Name                                      Face Location  \\\n",
       "89276    Elisha Cuthbert  [[387.58393455260597, 72.80212735862438, 467.6...   \n",
       "49705   Frederick Weller  [[288.7828876545509, 100.86100440158292, 400.9...   \n",
       "37895         Raoul Bova             [[788.48, 231.424, 1081.344, 524.288]]   \n",
       "76760  Jenna Dewan Tatum                [[113.708, 34.06, 150.912, 71.264]]   \n",
       "27825       Jessica Alba  [[134.13730584594, 67.38965292297, 283.6775249...   \n",
       "\n",
       "       Age at Photo  \n",
       "89276            28  \n",
       "49705            34  \n",
       "37895            39  \n",
       "76760            29  \n",
       "27825            25  "
      ]
     },
     "execution_count": 297,
     "metadata": {},
     "output_type": "execute_result"
    }
   ],
   "source": [
    "# Displaying 5 random rows of the data\n",
    "data_df.sample(5)"
   ]
  },
  {
   "cell_type": "code",
   "execution_count": 298,
   "metadata": {},
   "outputs": [
    {
     "name": "stdout",
     "output_type": "stream",
     "text": [
      "<class 'pandas.core.frame.DataFrame'>\n",
      "RangeIndex: 93500 entries, 0 to 93499\n",
      "Data columns (total 7 columns):\n",
      " #   Column            Non-Null Count  Dtype         \n",
      "---  ------            --------------  -----         \n",
      " 0   Date of Birth     93500 non-null  datetime64[ns]\n",
      " 1   Photo Taken Date  93500 non-null  object        \n",
      " 2   Full Img Path     93500 non-null  object        \n",
      " 3   Gender            93500 non-null  float64       \n",
      " 4   Celebrity Name    93500 non-null  object        \n",
      " 5   Face Location     93500 non-null  object        \n",
      " 6   Age at Photo      93500 non-null  Int64         \n",
      "dtypes: Int64(1), datetime64[ns](1), float64(1), object(4)\n",
      "memory usage: 5.1+ MB\n"
     ]
    }
   ],
   "source": [
    "# Checking for null values in the data\n",
    "data_df.info()"
   ]
  }
 ],
 "metadata": {
  "kernelspec": {
   "display_name": "Python 3",
   "language": "python",
   "name": "python3"
  },
  "language_info": {
   "codemirror_mode": {
    "name": "ipython",
    "version": 3
   },
   "file_extension": ".py",
   "mimetype": "text/x-python",
   "name": "python",
   "nbconvert_exporter": "python",
   "pygments_lexer": "ipython3",
   "version": "3.11.3"
  },
  "orig_nbformat": 4
 },
 "nbformat": 4,
 "nbformat_minor": 2
}
