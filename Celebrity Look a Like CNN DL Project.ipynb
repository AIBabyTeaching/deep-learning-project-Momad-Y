{
 "cells": [
  {
   "attachments": {},
   "cell_type": "markdown",
   "metadata": {},
   "source": [
    "# Celebrity Look a Like CNN DL Project\n",
    "\n",
    "#### Mohamed Youssef - 211001821\n"
   ]
  },
  {
   "attachments": {},
   "cell_type": "markdown",
   "metadata": {},
   "source": [
    "## Index"
   ]
  },
  {
   "attachments": {},
   "cell_type": "markdown",
   "metadata": {},
   "source": [
    "* [Including Necessary Libraries](#libs)\n",
    "<br>\n",
    "    * [Other Utilites](#uti)\n",
    "<br>\n",
    "* [Data Preprocessing](#dataset)\n",
    "<br>\n",
    "    * [Reading Meta Data](#metadata)\n",
    "    * [Creating Data Frame](#dataframe)"
   ]
  },
  {
   "attachments": {},
   "cell_type": "markdown",
   "metadata": {},
   "source": [
    "## Including Necessary Libraries and Initializing Utilites<a id='libs'></a>\n"
   ]
  },
  {
   "cell_type": "code",
   "execution_count": 19,
   "metadata": {},
   "outputs": [],
   "source": [
    "# Python built-in libraries\n",
    "from datetime import datetime, timedelta\n",
    "import time\n",
    "import warnings\n",
    "import os\n",
    "\n",
    "# Libraries for preprocessing and visualizing the data\n",
    "import scipy.io\n",
    "import numpy as np\n",
    "import pandas as pd\n",
    "import matplotlib.pyplot as plt\n",
    "\n",
    "# OpenCV library for image processing\n",
    "import cv2\n",
    "\n",
    "# Tensorflow and Keras libraries for deep learning models\n",
    "import tensorflow as tf\n",
    "\n",
    "import keras\n",
    "from keras.preprocessing import image\n",
    "from keras.callbacks import ModelCheckpoint, EarlyStopping\n",
    "from keras.layers import (\n",
    "    Dense,\n",
    "    Activation,\n",
    "    Dropout,\n",
    "    Flatten,\n",
    "    Input,\n",
    "    Convolution2D,\n",
    "    ZeroPadding2D,\n",
    "    MaxPooling2D,\n",
    "    Activation,\n",
    ")\n",
    "from keras.layers import Conv2D, AveragePooling2D\n",
    "from keras.models import Model, Sequential\n",
    "from keras import metrics\n",
    "from keras.models import model_from_json\n",
    "\n",
    "\n",
    "# Sklearn train test split function\n",
    "from sklearn.model_selection import train_test_split"
   ]
  },
  {
   "cell_type": "markdown",
   "metadata": {},
   "source": [
    "### Other Utilites<a id='uti'></a>"
   ]
  },
  {
   "cell_type": "code",
   "execution_count": 20,
   "metadata": {},
   "outputs": [],
   "source": [
    "# Disabling warnings\n",
    "def warn(*args, **kwargs):\n",
    "    pass\n",
    "\n",
    "\n",
    "warnings.warn = warn"
   ]
  },
  {
   "cell_type": "code",
   "execution_count": 21,
   "metadata": {},
   "outputs": [],
   "source": [
    "# Setting the path to the current directory\n",
    "path = os.getcwd()"
   ]
  },
  {
   "cell_type": "code",
   "execution_count": 22,
   "metadata": {},
   "outputs": [
    {
     "name": "stdout",
     "output_type": "stream",
     "text": [
      "Num GPUs Available:  [PhysicalDevice(name='/physical_device:CPU:0', device_type='CPU')]\n"
     ]
    },
    {
     "ename": "IndexError",
     "evalue": "list index out of range",
     "output_type": "error",
     "traceback": [
      "\u001b[1;31m---------------------------------------------------------------------------\u001b[0m",
      "\u001b[1;31mIndexError\u001b[0m                                Traceback (most recent call last)",
      "\u001b[1;32mc:\\Users\\Momad\\github-classroom\\AIBabyTeaching\\deep-learning-project-Momad-Y\\Celebrity Look a Like CNN DL Project.ipynb Cell 9\u001b[0m line \u001b[0;36m1\n\u001b[0;32m     <a href='vscode-notebook-cell:/c%3A/Users/Momad/github-classroom/AIBabyTeaching/deep-learning-project-Momad-Y/Celebrity%20Look%20a%20Like%20CNN%20DL%20Project.ipynb#X11sZmlsZQ%3D%3D?line=13'>14</a>\u001b[0m \u001b[39mif\u001b[39;00m gpus:\n\u001b[0;32m     <a href='vscode-notebook-cell:/c%3A/Users/Momad/github-classroom/AIBabyTeaching/deep-learning-project-Momad-Y/Celebrity%20Look%20a%20Like%20CNN%20DL%20Project.ipynb#X11sZmlsZQ%3D%3D?line=14'>15</a>\u001b[0m     \u001b[39mtry\u001b[39;00m:\n\u001b[1;32m---> <a href='vscode-notebook-cell:/c%3A/Users/Momad/github-classroom/AIBabyTeaching/deep-learning-project-Momad-Y/Celebrity%20Look%20a%20Like%20CNN%20DL%20Project.ipynb#X11sZmlsZQ%3D%3D?line=15'>16</a>\u001b[0m         tf\u001b[39m.\u001b[39mconfig\u001b[39m.\u001b[39mexperimental\u001b[39m.\u001b[39mset_visible_devices(gpus[\u001b[39m1\u001b[39;49m], \u001b[39m\"\u001b[39m\u001b[39mGPU\u001b[39m\u001b[39m\"\u001b[39m)\n\u001b[0;32m     <a href='vscode-notebook-cell:/c%3A/Users/Momad/github-classroom/AIBabyTeaching/deep-learning-project-Momad-Y/Celebrity%20Look%20a%20Like%20CNN%20DL%20Project.ipynb#X11sZmlsZQ%3D%3D?line=17'>18</a>\u001b[0m         tf\u001b[39m.\u001b[39mconfig\u001b[39m.\u001b[39mexperimental\u001b[39m.\u001b[39mset_memory_growth(gpus[\u001b[39m1\u001b[39m], \u001b[39mTrue\u001b[39;00m)\n\u001b[0;32m     <a href='vscode-notebook-cell:/c%3A/Users/Momad/github-classroom/AIBabyTeaching/deep-learning-project-Momad-Y/Celebrity%20Look%20a%20Like%20CNN%20DL%20Project.ipynb#X11sZmlsZQ%3D%3D?line=19'>20</a>\u001b[0m     \u001b[39mexcept\u001b[39;00m \u001b[39mRuntimeError\u001b[39;00m \u001b[39mas\u001b[39;00m e:\n",
      "\u001b[1;31mIndexError\u001b[0m: list index out of range"
     ]
    }
   ],
   "source": [
    "# Configuring the GPU\n",
    "\n",
    "# Setting the second GPU as the default GPU for training\n",
    "\n",
    "# os.environ[\"CUDA_VISIBLE_DEVICES\"] = \"1\"\n",
    "\n",
    "# Setting the configuration of the GPU\n",
    "\n",
    "gpus = tf.config.experimental.list_physical_devices(\"gpus\")\n",
    "\n",
    "print(\"Num GPUs Available: \", gpus)\n",
    "\n",
    "\n",
    "if gpus:\n",
    "    try:\n",
    "        tf.config.experimental.set_visible_devices(gpus[1], \"GPU\")\n",
    "\n",
    "        tf.config.experimental.set_memory_growth(gpus[1], True)\n",
    "\n",
    "    except RuntimeError as e:\n",
    "        print(e)"
   ]
  },
  {
   "attachments": {},
   "cell_type": "markdown",
   "metadata": {},
   "source": [
    "## Data Preprocessing <a id='dataset'></a>"
   ]
  },
  {
   "cell_type": "markdown",
   "metadata": {},
   "source": [
    "### Reading Meta Data <a id='metadata'></a>"
   ]
  },
  {
   "cell_type": "code",
   "execution_count": null,
   "metadata": {},
   "outputs": [],
   "source": [
    "# Loading the mat file containing the data\n",
    "data_mat = scipy.io.loadmat(path + \"/Data/imdb_crop/imdb_crop/imdb.mat\")"
   ]
  },
  {
   "cell_type": "code",
   "execution_count": null,
   "metadata": {},
   "outputs": [
    {
     "name": "stdout",
     "output_type": "stream",
     "text": [
      "Total no. of records:  460723\n"
     ]
    }
   ],
   "source": [
    "# Getting the total number of records in the data\n",
    "records = data_mat[\"imdb\"][0][0][0].shape[1]\n",
    "print(\"Total no. of records: \", records)"
   ]
  },
  {
   "cell_type": "code",
   "execution_count": null,
   "metadata": {},
   "outputs": [
    {
     "name": "stdout",
     "output_type": "stream",
     "text": [
      "Total no. of features:  10\n"
     ]
    }
   ],
   "source": [
    "# Getting the column names of the data\n",
    "features = data_mat[\"imdb\"][0][0].dtype\n",
    "features = list(features.names)\n",
    "print(\"Total no. of features: \", len(features))"
   ]
  },
  {
   "cell_type": "code",
   "execution_count": null,
   "metadata": {},
   "outputs": [
    {
     "name": "stdout",
     "output_type": "stream",
     "text": [
      "Current Features Names:\n",
      " ['dob', 'photo_taken', 'full_path', 'gender', 'name', 'face_location', 'face_score', 'second_face_score', 'celeb_names', 'celeb_id']\n",
      "New Features Names:\n",
      " ['Date of Birth', 'Photo Taken Date', 'Full Img Path', 'Gender', 'Celebrity Name', 'Face Location', 'Face Score', 'Second Face Score', 'Celeb Names', 'Celeb ID']\n"
     ]
    }
   ],
   "source": [
    "# Rename the columns of the data\n",
    "print(\"Current Features Names:\\n\", features)\n",
    "features[0] = \"Date of Birth\"\n",
    "features[1] = \"Photo Taken Date\"\n",
    "features[2] = \"Full Img Path\"\n",
    "features[3] = \"Gender\"\n",
    "features[4] = \"Celebrity Name\"\n",
    "features[5] = \"Face Location\"\n",
    "features[6] = \"Face Score\"\n",
    "features[7] = \"Second Face Score\"\n",
    "features[8] = \"Celeb Names\"\n",
    "features[9] = \"Celeb ID\"\n",
    "print(\"New Features Names:\\n\", features)"
   ]
  },
  {
   "cell_type": "markdown",
   "metadata": {},
   "source": [
    "### Creating Data Frame <a id='dataframe'></a>"
   ]
  },
  {
   "cell_type": "code",
   "execution_count": null,
   "metadata": {},
   "outputs": [],
   "source": [
    "# Creating a dataframe to store the data\n",
    "data_df = pd.DataFrame(index=(range(0, records)), columns=features)"
   ]
  },
  {
   "cell_type": "code",
   "execution_count": null,
   "metadata": {},
   "outputs": [],
   "source": [
    "# Extracting the data from the mat file and storing it in a dataframe\n",
    "for i in data_mat:\n",
    "    if i == \"imdb\":\n",
    "        current_array = data_mat[i][0][0]\n",
    "        for j in range(len(current_array)):\n",
    "            data_df[features[j]] = pd.DataFrame(current_array[j][0])"
   ]
  },
  {
   "cell_type": "code",
   "execution_count": null,
   "metadata": {},
   "outputs": [
    {
     "data": {
      "text/html": [
       "<div>\n",
       "<style scoped>\n",
       "    .dataframe tbody tr th:only-of-type {\n",
       "        vertical-align: middle;\n",
       "    }\n",
       "\n",
       "    .dataframe tbody tr th {\n",
       "        vertical-align: top;\n",
       "    }\n",
       "\n",
       "    .dataframe thead th {\n",
       "        text-align: right;\n",
       "    }\n",
       "</style>\n",
       "<table border=\"1\" class=\"dataframe\">\n",
       "  <thead>\n",
       "    <tr style=\"text-align: right;\">\n",
       "      <th></th>\n",
       "      <th>Date of Birth</th>\n",
       "      <th>Photo Taken Date</th>\n",
       "      <th>Full Img Path</th>\n",
       "      <th>Gender</th>\n",
       "      <th>Celebrity Name</th>\n",
       "      <th>Face Location</th>\n",
       "      <th>Face Score</th>\n",
       "      <th>Second Face Score</th>\n",
       "      <th>Celeb Names</th>\n",
       "      <th>Celeb ID</th>\n",
       "    </tr>\n",
       "  </thead>\n",
       "  <tbody>\n",
       "    <tr>\n",
       "      <th>358457</th>\n",
       "      <td>725308</td>\n",
       "      <td>2010</td>\n",
       "      <td>[79/nm0069079_rm2437731328_1985-10-28_2010.jpg]</td>\n",
       "      <td>0.0</td>\n",
       "      <td>[Troian Bellisario]</td>\n",
       "      <td>[[549.7480128185821, 189.6321294063876, 703.08...</td>\n",
       "      <td>1.311452</td>\n",
       "      <td>1.300156</td>\n",
       "      <td>NaN</td>\n",
       "      <td>19395</td>\n",
       "    </tr>\n",
       "    <tr>\n",
       "      <th>168715</th>\n",
       "      <td>715873</td>\n",
       "      <td>1997</td>\n",
       "      <td>[23/nm0005323_rm2796722944_1959-12-29_1997.jpg]</td>\n",
       "      <td>0.0</td>\n",
       "      <td>[Paula Poundstone]</td>\n",
       "      <td>[[113.87, 66.67, 198.24, 151.04000000000002]]</td>\n",
       "      <td>3.728143</td>\n",
       "      <td>0.889193</td>\n",
       "      <td>NaN</td>\n",
       "      <td>15231</td>\n",
       "    </tr>\n",
       "    <tr>\n",
       "      <th>111586</th>\n",
       "      <td>711968</td>\n",
       "      <td>2011</td>\n",
       "      <td>[48/nm0001448_rm2745891072_1949-4-20_2011.jpg]</td>\n",
       "      <td>0.0</td>\n",
       "      <td>[Jessica Lange]</td>\n",
       "      <td>[[636.7705172859768, 444.71198880416983, 768.2...</td>\n",
       "      <td>3.774291</td>\n",
       "      <td>3.538720</td>\n",
       "      <td>NaN</td>\n",
       "      <td>9062</td>\n",
       "    </tr>\n",
       "    <tr>\n",
       "      <th>425516</th>\n",
       "      <td>712200</td>\n",
       "      <td>2003</td>\n",
       "      <td>[00/nm0583600_rm3817969920_1949-12-8_2003.jpg]</td>\n",
       "      <td>NaN</td>\n",
       "      <td>[Nancy Meyers]</td>\n",
       "      <td>[[319.0377571614311, 91.63221633183745, 386.58...</td>\n",
       "      <td>3.919926</td>\n",
       "      <td>3.770319</td>\n",
       "      <td>NaN</td>\n",
       "      <td>14233</td>\n",
       "    </tr>\n",
       "    <tr>\n",
       "      <th>74945</th>\n",
       "      <td>713732</td>\n",
       "      <td>2005</td>\n",
       "      <td>[23/nm0000623_rm3575355904_1954-2-17_2005.jpg]</td>\n",
       "      <td>0.0</td>\n",
       "      <td>[Rene Russo]</td>\n",
       "      <td>[[62.54193194689745, 145.12850787609406, 247.7...</td>\n",
       "      <td>2.311964</td>\n",
       "      <td>NaN</td>\n",
       "      <td>NaN</td>\n",
       "      <td>15968</td>\n",
       "    </tr>\n",
       "  </tbody>\n",
       "</table>\n",
       "</div>"
      ],
      "text/plain": [
       "        Date of Birth  Photo Taken Date  \\\n",
       "358457         725308              2010   \n",
       "168715         715873              1997   \n",
       "111586         711968              2011   \n",
       "425516         712200              2003   \n",
       "74945          713732              2005   \n",
       "\n",
       "                                          Full Img Path  Gender  \\\n",
       "358457  [79/nm0069079_rm2437731328_1985-10-28_2010.jpg]     0.0   \n",
       "168715  [23/nm0005323_rm2796722944_1959-12-29_1997.jpg]     0.0   \n",
       "111586   [48/nm0001448_rm2745891072_1949-4-20_2011.jpg]     0.0   \n",
       "425516   [00/nm0583600_rm3817969920_1949-12-8_2003.jpg]     NaN   \n",
       "74945    [23/nm0000623_rm3575355904_1954-2-17_2005.jpg]     0.0   \n",
       "\n",
       "             Celebrity Name  \\\n",
       "358457  [Troian Bellisario]   \n",
       "168715   [Paula Poundstone]   \n",
       "111586      [Jessica Lange]   \n",
       "425516       [Nancy Meyers]   \n",
       "74945          [Rene Russo]   \n",
       "\n",
       "                                            Face Location  Face Score  \\\n",
       "358457  [[549.7480128185821, 189.6321294063876, 703.08...    1.311452   \n",
       "168715      [[113.87, 66.67, 198.24, 151.04000000000002]]    3.728143   \n",
       "111586  [[636.7705172859768, 444.71198880416983, 768.2...    3.774291   \n",
       "425516  [[319.0377571614311, 91.63221633183745, 386.58...    3.919926   \n",
       "74945   [[62.54193194689745, 145.12850787609406, 247.7...    2.311964   \n",
       "\n",
       "        Second Face Score Celeb Names  Celeb ID  \n",
       "358457           1.300156         NaN     19395  \n",
       "168715           0.889193         NaN     15231  \n",
       "111586           3.538720         NaN      9062  \n",
       "425516           3.770319         NaN     14233  \n",
       "74945                 NaN         NaN     15968  "
      ]
     },
     "execution_count": 11,
     "metadata": {},
     "output_type": "execute_result"
    }
   ],
   "source": [
    "# Displaying 5 random rows of the data\n",
    "data_df.sample(5)"
   ]
  },
  {
   "cell_type": "code",
   "execution_count": null,
   "metadata": {},
   "outputs": [
    {
     "name": "stderr",
     "output_type": "stream",
     "text": [
      "c:\\Users\\Momad\\github-classroom\\AIBabyTeaching\\deep-learning-project-Momad-Y\\venv\\Lib\\site-packages\\pandas\\core\\nanops.py:1010: RuntimeWarning: invalid value encountered in subtract\n",
      "  sqr = _ensure_numeric((avg - values) ** 2)\n"
     ]
    },
    {
     "data": {
      "text/html": [
       "<div>\n",
       "<style scoped>\n",
       "    .dataframe tbody tr th:only-of-type {\n",
       "        vertical-align: middle;\n",
       "    }\n",
       "\n",
       "    .dataframe tbody tr th {\n",
       "        vertical-align: top;\n",
       "    }\n",
       "\n",
       "    .dataframe thead th {\n",
       "        text-align: right;\n",
       "    }\n",
       "</style>\n",
       "<table border=\"1\" class=\"dataframe\">\n",
       "  <thead>\n",
       "    <tr style=\"text-align: right;\">\n",
       "      <th></th>\n",
       "      <th>Date of Birth</th>\n",
       "      <th>Photo Taken Date</th>\n",
       "      <th>Gender</th>\n",
       "      <th>Face Score</th>\n",
       "      <th>Second Face Score</th>\n",
       "      <th>Celeb ID</th>\n",
       "    </tr>\n",
       "  </thead>\n",
       "  <tbody>\n",
       "    <tr>\n",
       "      <th>count</th>\n",
       "      <td>460723.000000</td>\n",
       "      <td>460723.000000</td>\n",
       "      <td>452261.000000</td>\n",
       "      <td>4.607230e+05</td>\n",
       "      <td>213797.000000</td>\n",
       "      <td>460723.000000</td>\n",
       "    </tr>\n",
       "    <tr>\n",
       "      <th>mean</th>\n",
       "      <td>718987.731774</td>\n",
       "      <td>2005.461555</td>\n",
       "      <td>0.581996</td>\n",
       "      <td>-inf</td>\n",
       "      <td>2.452904</td>\n",
       "      <td>10116.802404</td>\n",
       "    </tr>\n",
       "    <tr>\n",
       "      <th>std</th>\n",
       "      <td>13253.963535</td>\n",
       "      <td>9.054475</td>\n",
       "      <td>0.493231</td>\n",
       "      <td>NaN</td>\n",
       "      <td>1.064432</td>\n",
       "      <td>5742.153266</td>\n",
       "    </tr>\n",
       "    <tr>\n",
       "      <th>min</th>\n",
       "      <td>47.000000</td>\n",
       "      <td>1961.000000</td>\n",
       "      <td>0.000000</td>\n",
       "      <td>-inf</td>\n",
       "      <td>0.730926</td>\n",
       "      <td>1.000000</td>\n",
       "    </tr>\n",
       "    <tr>\n",
       "      <th>25%</th>\n",
       "      <td>716370.000000</td>\n",
       "      <td>2004.000000</td>\n",
       "      <td>0.000000</td>\n",
       "      <td>1.757891e+00</td>\n",
       "      <td>1.583692</td>\n",
       "      <td>5294.000000</td>\n",
       "    </tr>\n",
       "    <tr>\n",
       "      <th>50%</th>\n",
       "      <td>719935.000000</td>\n",
       "      <td>2008.000000</td>\n",
       "      <td>1.000000</td>\n",
       "      <td>2.980097e+00</td>\n",
       "      <td>2.355163</td>\n",
       "      <td>10066.000000</td>\n",
       "    </tr>\n",
       "    <tr>\n",
       "      <th>75%</th>\n",
       "      <td>723073.000000</td>\n",
       "      <td>2011.000000</td>\n",
       "      <td>1.000000</td>\n",
       "      <td>4.006376e+00</td>\n",
       "      <td>3.228071</td>\n",
       "      <td>14922.000000</td>\n",
       "    </tr>\n",
       "    <tr>\n",
       "      <th>max</th>\n",
       "      <td>734963.000000</td>\n",
       "      <td>2015.000000</td>\n",
       "      <td>1.000000</td>\n",
       "      <td>7.381689e+00</td>\n",
       "      <td>6.395435</td>\n",
       "      <td>20284.000000</td>\n",
       "    </tr>\n",
       "  </tbody>\n",
       "</table>\n",
       "</div>"
      ],
      "text/plain": [
       "       Date of Birth  Photo Taken Date         Gender    Face Score  \\\n",
       "count  460723.000000     460723.000000  452261.000000  4.607230e+05   \n",
       "mean   718987.731774       2005.461555       0.581996          -inf   \n",
       "std     13253.963535          9.054475       0.493231           NaN   \n",
       "min        47.000000       1961.000000       0.000000          -inf   \n",
       "25%    716370.000000       2004.000000       0.000000  1.757891e+00   \n",
       "50%    719935.000000       2008.000000       1.000000  2.980097e+00   \n",
       "75%    723073.000000       2011.000000       1.000000  4.006376e+00   \n",
       "max    734963.000000       2015.000000       1.000000  7.381689e+00   \n",
       "\n",
       "       Second Face Score       Celeb ID  \n",
       "count      213797.000000  460723.000000  \n",
       "mean            2.452904   10116.802404  \n",
       "std             1.064432    5742.153266  \n",
       "min             0.730926       1.000000  \n",
       "25%             1.583692    5294.000000  \n",
       "50%             2.355163   10066.000000  \n",
       "75%             3.228071   14922.000000  \n",
       "max             6.395435   20284.000000  "
      ]
     },
     "execution_count": 12,
     "metadata": {},
     "output_type": "execute_result"
    }
   ],
   "source": [
    "# Describing the data\n",
    "data_df.describe()"
   ]
  }
 ],
 "metadata": {
  "kernelspec": {
   "display_name": "Python 3",
   "language": "python",
   "name": "python3"
  },
  "language_info": {
   "codemirror_mode": {
    "name": "ipython",
    "version": 3
   },
   "file_extension": ".py",
   "mimetype": "text/x-python",
   "name": "python",
   "nbconvert_exporter": "python",
   "pygments_lexer": "ipython3",
   "version": "3.11.3"
  },
  "orig_nbformat": 4
 },
 "nbformat": 4,
 "nbformat_minor": 2
}
