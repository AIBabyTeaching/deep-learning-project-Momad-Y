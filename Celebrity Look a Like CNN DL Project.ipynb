{
 "cells": [
  {
   "attachments": {},
   "cell_type": "markdown",
   "metadata": {},
   "source": [
    "# Celebrity Look a Like CNN DL Project\n",
    "\n",
    "#### Mohamed Youssef - 211001821\n"
   ]
  },
  {
   "attachments": {},
   "cell_type": "markdown",
   "metadata": {},
   "source": [
    "## Index"
   ]
  },
  {
   "attachments": {},
   "cell_type": "markdown",
   "metadata": {},
   "source": [
    "* [Including Necessary Libraries](#libs)\n",
    "<br>\n",
    "    * [Other Utilites](#uti)\n",
    "<br>\n",
    "* [Data Preprocessing](#dataset)\n",
    "<br>\n",
    "    * [Reading Meta Data](#metadata)\n",
    "    * [Creating Data Frame](#dataframe)\n",
    "    * [Data Cleaning](#clean)\n"
   ]
  },
  {
   "attachments": {},
   "cell_type": "markdown",
   "metadata": {},
   "source": [
    "## Including Necessary Libraries and Initializing Utilites<a id='libs'></a>\n"
   ]
  },
  {
   "cell_type": "code",
   "execution_count": 39,
   "metadata": {},
   "outputs": [],
   "source": [
    "# Python built-in libraries\n",
    "from datetime import datetime, timedelta\n",
    "import time\n",
    "import warnings\n",
    "import os\n",
    "\n",
    "# Libraries for preprocessing and visualizing the data\n",
    "import scipy.io\n",
    "import numpy as np\n",
    "import pandas as pd\n",
    "import matplotlib.pyplot as plt\n",
    "\n",
    "# OpenCV library for image processing\n",
    "import cv2\n",
    "\n",
    "# Tensorflow and Keras libraries for deep learning models\n",
    "import tensorflow as tf\n",
    "\n",
    "import keras\n",
    "from keras.preprocessing import image\n",
    "from keras.callbacks import ModelCheckpoint, EarlyStopping\n",
    "from keras.layers import (\n",
    "    Dense,\n",
    "    Activation,\n",
    "    Dropout,\n",
    "    Flatten,\n",
    "    Input,\n",
    "    Convolution2D,\n",
    "    ZeroPadding2D,\n",
    "    MaxPooling2D,\n",
    "    Activation,\n",
    ")\n",
    "from keras.layers import Conv2D, AveragePooling2D\n",
    "from keras.models import Model, Sequential\n",
    "from keras import metrics\n",
    "from keras.models import model_from_json\n",
    "\n",
    "\n",
    "# Sklearn train test split function\n",
    "from sklearn.model_selection import train_test_split"
   ]
  },
  {
   "cell_type": "markdown",
   "metadata": {},
   "source": [
    "### Other Utilites<a id='uti'></a>"
   ]
  },
  {
   "cell_type": "code",
   "execution_count": 40,
   "metadata": {},
   "outputs": [],
   "source": [
    "# Disabling warnings\n",
    "def warn(*args, **kwargs):\n",
    "    pass\n",
    "\n",
    "\n",
    "warnings.warn = warn"
   ]
  },
  {
   "cell_type": "code",
   "execution_count": 41,
   "metadata": {},
   "outputs": [],
   "source": [
    "# Setting the path to the current directory\n",
    "path = os.getcwd()"
   ]
  },
  {
   "cell_type": "code",
   "execution_count": 42,
   "metadata": {},
   "outputs": [
    {
     "name": "stdout",
     "output_type": "stream",
     "text": [
      "Num GPUs Available:  [PhysicalDevice(name='/physical_device:GPU:0', device_type='GPU')]\n"
     ]
    }
   ],
   "source": [
    "# Configuring the GPU for training the model\n",
    "gpus = tf.config.list_physical_devices(\"GPU\")\n",
    "\n",
    "if gpus:\n",
    "    print(\"Num GPUs Available: \", gpus)\n",
    "\n",
    "    try:\n",
    "        tf.config.experimental.set_visible_devices(gpus[1], \"GPU\")\n",
    "        tf.config.experimental.set_memory_growth(gpus[1], True)\n",
    "\n",
    "    except:\n",
    "        tf.config.experimental.set_visible_devices(gpus[0], \"GPU\")\n",
    "        tf.config.experimental.set_memory_growth(gpus[0], True)\n",
    "else:\n",
    "    print(\"No GPU Available\")"
   ]
  },
  {
   "attachments": {},
   "cell_type": "markdown",
   "metadata": {},
   "source": [
    "## Data Preprocessing <a id='dataset'></a>"
   ]
  },
  {
   "cell_type": "markdown",
   "metadata": {},
   "source": [
    "### Reading Meta Data <a id='metadata'></a>"
   ]
  },
  {
   "cell_type": "code",
   "execution_count": 43,
   "metadata": {},
   "outputs": [],
   "source": [
    "# Loading the mat file containing the data\n",
    "data_mat = scipy.io.loadmat(path + \"/Data/imdb_crop/imdb_crop/imdb.mat\")"
   ]
  },
  {
   "cell_type": "code",
   "execution_count": 44,
   "metadata": {},
   "outputs": [
    {
     "name": "stdout",
     "output_type": "stream",
     "text": [
      "Total no. of records:  460723\n"
     ]
    }
   ],
   "source": [
    "# Getting the total number of records in the data\n",
    "records = data_mat[\"imdb\"][0][0][0].shape[1]\n",
    "print(\"Total no. of records: \", records)"
   ]
  },
  {
   "cell_type": "code",
   "execution_count": 45,
   "metadata": {},
   "outputs": [
    {
     "name": "stdout",
     "output_type": "stream",
     "text": [
      "Total no. of features:  10\n"
     ]
    }
   ],
   "source": [
    "# Getting the column names of the data\n",
    "features = data_mat[\"imdb\"][0][0].dtype\n",
    "features = list(features.names)\n",
    "print(\"Total no. of features: \", len(features))"
   ]
  },
  {
   "cell_type": "code",
   "execution_count": 46,
   "metadata": {},
   "outputs": [
    {
     "name": "stdout",
     "output_type": "stream",
     "text": [
      "Current Features Names:\n",
      " ['dob', 'photo_taken', 'full_path', 'gender', 'name', 'face_location', 'face_score', 'second_face_score', 'celeb_names', 'celeb_id']\n",
      "New Features Names:\n",
      " ['Date of Birth', 'Photo Taken Date', 'Full Img Path', 'Gender', 'Celebrity Name', 'Face Location', 'Face Score', 'Second Face Score', 'Celeb Names', 'Celeb ID']\n"
     ]
    }
   ],
   "source": [
    "# Rename the columns of the data\n",
    "print(\"Current Features Names:\\n\", features)\n",
    "features[0] = \"Date of Birth\"\n",
    "features[1] = \"Photo Taken Date\"\n",
    "features[2] = \"Full Img Path\"\n",
    "features[3] = \"Gender\"\n",
    "features[4] = \"Celebrity Name\"\n",
    "features[5] = \"Face Location\"\n",
    "features[6] = \"Face Score\"\n",
    "features[7] = \"Second Face Score\"\n",
    "features[8] = \"Celeb Names\"\n",
    "features[9] = \"Celeb ID\"\n",
    "print(\"New Features Names:\\n\", features)"
   ]
  },
  {
   "cell_type": "markdown",
   "metadata": {},
   "source": [
    "### Creating Data Frame <a id='dataframe'></a>"
   ]
  },
  {
   "cell_type": "code",
   "execution_count": 47,
   "metadata": {},
   "outputs": [],
   "source": [
    "# Creating a dataframe to store the data\n",
    "data_df = pd.DataFrame(index=(range(0, records)), columns=features)"
   ]
  },
  {
   "cell_type": "code",
   "execution_count": 48,
   "metadata": {},
   "outputs": [],
   "source": [
    "# Extracting the data from the mat file and storing it in a dataframe\n",
    "for i in data_mat:\n",
    "    if i == \"imdb\":\n",
    "        current_array = data_mat[i][0][0]\n",
    "        for j in range(len(current_array)):\n",
    "            data_df[features[j]] = pd.DataFrame(current_array[j][0])"
   ]
  },
  {
   "cell_type": "code",
   "execution_count": 49,
   "metadata": {},
   "outputs": [
    {
     "data": {
      "text/html": [
       "<div>\n",
       "<style scoped>\n",
       "    .dataframe tbody tr th:only-of-type {\n",
       "        vertical-align: middle;\n",
       "    }\n",
       "\n",
       "    .dataframe tbody tr th {\n",
       "        vertical-align: top;\n",
       "    }\n",
       "\n",
       "    .dataframe thead th {\n",
       "        text-align: right;\n",
       "    }\n",
       "</style>\n",
       "<table border=\"1\" class=\"dataframe\">\n",
       "  <thead>\n",
       "    <tr style=\"text-align: right;\">\n",
       "      <th></th>\n",
       "      <th>Date of Birth</th>\n",
       "      <th>Photo Taken Date</th>\n",
       "      <th>Full Img Path</th>\n",
       "      <th>Gender</th>\n",
       "      <th>Celebrity Name</th>\n",
       "      <th>Face Location</th>\n",
       "      <th>Face Score</th>\n",
       "      <th>Second Face Score</th>\n",
       "      <th>Celeb Names</th>\n",
       "      <th>Celeb ID</th>\n",
       "    </tr>\n",
       "  </thead>\n",
       "  <tbody>\n",
       "    <tr>\n",
       "      <th>434499</th>\n",
       "      <td>725504</td>\n",
       "      <td>2011</td>\n",
       "      <td>[40/nm0885840_rm2911743488_1986-5-12_2011.jpg]</td>\n",
       "      <td>0.0</td>\n",
       "      <td>[Emily VanCamp]</td>\n",
       "      <td>[[1, 1, 425, 640]]</td>\n",
       "      <td>-inf</td>\n",
       "      <td>NaN</td>\n",
       "      <td>NaN</td>\n",
       "      <td>5871</td>\n",
       "    </tr>\n",
       "    <tr>\n",
       "      <th>127176</th>\n",
       "      <td>714239</td>\n",
       "      <td>2008</td>\n",
       "      <td>[51/nm0001751_rm1746198016_1955-7-9_2008.jpg]</td>\n",
       "      <td>1.0</td>\n",
       "      <td>[Jimmy Smits]</td>\n",
       "      <td>[[314.792, 49.704, 376.704, 111.616]]</td>\n",
       "      <td>1.855542</td>\n",
       "      <td>0.989908</td>\n",
       "      <td>NaN</td>\n",
       "      <td>9221</td>\n",
       "    </tr>\n",
       "    <tr>\n",
       "      <th>246986</th>\n",
       "      <td>725235</td>\n",
       "      <td>2005</td>\n",
       "      <td>[62/nm2129662_rm2027542272_1985-8-16_2005.jpg]</td>\n",
       "      <td>0.0</td>\n",
       "      <td>[Cristin Milioti]</td>\n",
       "      <td>[[223.92888020754896, 258.22563100871037, 300....</td>\n",
       "      <td>2.503853</td>\n",
       "      <td>2.496622</td>\n",
       "      <td>NaN</td>\n",
       "      <td>4099</td>\n",
       "    </tr>\n",
       "    <tr>\n",
       "      <th>273909</th>\n",
       "      <td>718428</td>\n",
       "      <td>2002</td>\n",
       "      <td>[91/nm0130191_rm2860420608_1966-12-27_2002.jpg]</td>\n",
       "      <td>0.0</td>\n",
       "      <td>[Eva LaRue]</td>\n",
       "      <td>[[165.834, 149.85000000000002, 213.12, 197.136...</td>\n",
       "      <td>1.231028</td>\n",
       "      <td>NaN</td>\n",
       "      <td>NaN</td>\n",
       "      <td>6162</td>\n",
       "    </tr>\n",
       "    <tr>\n",
       "      <th>20740</th>\n",
       "      <td>707840</td>\n",
       "      <td>2010</td>\n",
       "      <td>[64/nm0000164_rm4138897152_1937-12-31_2010.jpg]</td>\n",
       "      <td>1.0</td>\n",
       "      <td>[Anthony Hopkins]</td>\n",
       "      <td>[[296.44800000000004, 345.6, 737.2800000000001...</td>\n",
       "      <td>3.090811</td>\n",
       "      <td>1.121087</td>\n",
       "      <td>NaN</td>\n",
       "      <td>1316</td>\n",
       "    </tr>\n",
       "  </tbody>\n",
       "</table>\n",
       "</div>"
      ],
      "text/plain": [
       "        Date of Birth  Photo Taken Date   \n",
       "434499         725504              2011  \\\n",
       "127176         714239              2008   \n",
       "246986         725235              2005   \n",
       "273909         718428              2002   \n",
       "20740          707840              2010   \n",
       "\n",
       "                                          Full Img Path  Gender   \n",
       "434499   [40/nm0885840_rm2911743488_1986-5-12_2011.jpg]     0.0  \\\n",
       "127176    [51/nm0001751_rm1746198016_1955-7-9_2008.jpg]     1.0   \n",
       "246986   [62/nm2129662_rm2027542272_1985-8-16_2005.jpg]     0.0   \n",
       "273909  [91/nm0130191_rm2860420608_1966-12-27_2002.jpg]     0.0   \n",
       "20740   [64/nm0000164_rm4138897152_1937-12-31_2010.jpg]     1.0   \n",
       "\n",
       "           Celebrity Name                                      Face Location   \n",
       "434499    [Emily VanCamp]                                 [[1, 1, 425, 640]]  \\\n",
       "127176      [Jimmy Smits]              [[314.792, 49.704, 376.704, 111.616]]   \n",
       "246986  [Cristin Milioti]  [[223.92888020754896, 258.22563100871037, 300....   \n",
       "273909        [Eva LaRue]  [[165.834, 149.85000000000002, 213.12, 197.136...   \n",
       "20740   [Anthony Hopkins]  [[296.44800000000004, 345.6, 737.2800000000001...   \n",
       "\n",
       "        Face Score  Second Face Score Celeb Names  Celeb ID  \n",
       "434499        -inf                NaN         NaN      5871  \n",
       "127176    1.855542           0.989908         NaN      9221  \n",
       "246986    2.503853           2.496622         NaN      4099  \n",
       "273909    1.231028                NaN         NaN      6162  \n",
       "20740     3.090811           1.121087         NaN      1316  "
      ]
     },
     "execution_count": 49,
     "metadata": {},
     "output_type": "execute_result"
    }
   ],
   "source": [
    "# Displaying 5 random rows of the data\n",
    "data_df.sample(5)"
   ]
  },
  {
   "cell_type": "code",
   "execution_count": 50,
   "metadata": {},
   "outputs": [
    {
     "data": {
      "text/html": [
       "<div>\n",
       "<style scoped>\n",
       "    .dataframe tbody tr th:only-of-type {\n",
       "        vertical-align: middle;\n",
       "    }\n",
       "\n",
       "    .dataframe tbody tr th {\n",
       "        vertical-align: top;\n",
       "    }\n",
       "\n",
       "    .dataframe thead th {\n",
       "        text-align: right;\n",
       "    }\n",
       "</style>\n",
       "<table border=\"1\" class=\"dataframe\">\n",
       "  <thead>\n",
       "    <tr style=\"text-align: right;\">\n",
       "      <th></th>\n",
       "      <th>Date of Birth</th>\n",
       "      <th>Photo Taken Date</th>\n",
       "      <th>Gender</th>\n",
       "      <th>Face Score</th>\n",
       "      <th>Second Face Score</th>\n",
       "      <th>Celeb ID</th>\n",
       "    </tr>\n",
       "  </thead>\n",
       "  <tbody>\n",
       "    <tr>\n",
       "      <th>count</th>\n",
       "      <td>460723.000000</td>\n",
       "      <td>460723.000000</td>\n",
       "      <td>452261.000000</td>\n",
       "      <td>4.607230e+05</td>\n",
       "      <td>213797.000000</td>\n",
       "      <td>460723.000000</td>\n",
       "    </tr>\n",
       "    <tr>\n",
       "      <th>mean</th>\n",
       "      <td>718987.731774</td>\n",
       "      <td>2005.461555</td>\n",
       "      <td>0.581996</td>\n",
       "      <td>-inf</td>\n",
       "      <td>2.452904</td>\n",
       "      <td>10116.802404</td>\n",
       "    </tr>\n",
       "    <tr>\n",
       "      <th>std</th>\n",
       "      <td>13253.963535</td>\n",
       "      <td>9.054475</td>\n",
       "      <td>0.493231</td>\n",
       "      <td>NaN</td>\n",
       "      <td>1.064432</td>\n",
       "      <td>5742.153266</td>\n",
       "    </tr>\n",
       "    <tr>\n",
       "      <th>min</th>\n",
       "      <td>47.000000</td>\n",
       "      <td>1961.000000</td>\n",
       "      <td>0.000000</td>\n",
       "      <td>-inf</td>\n",
       "      <td>0.730926</td>\n",
       "      <td>1.000000</td>\n",
       "    </tr>\n",
       "    <tr>\n",
       "      <th>25%</th>\n",
       "      <td>716370.000000</td>\n",
       "      <td>2004.000000</td>\n",
       "      <td>0.000000</td>\n",
       "      <td>1.757891e+00</td>\n",
       "      <td>1.583692</td>\n",
       "      <td>5294.000000</td>\n",
       "    </tr>\n",
       "    <tr>\n",
       "      <th>50%</th>\n",
       "      <td>719935.000000</td>\n",
       "      <td>2008.000000</td>\n",
       "      <td>1.000000</td>\n",
       "      <td>2.980097e+00</td>\n",
       "      <td>2.355163</td>\n",
       "      <td>10066.000000</td>\n",
       "    </tr>\n",
       "    <tr>\n",
       "      <th>75%</th>\n",
       "      <td>723073.000000</td>\n",
       "      <td>2011.000000</td>\n",
       "      <td>1.000000</td>\n",
       "      <td>4.006376e+00</td>\n",
       "      <td>3.228071</td>\n",
       "      <td>14922.000000</td>\n",
       "    </tr>\n",
       "    <tr>\n",
       "      <th>max</th>\n",
       "      <td>734963.000000</td>\n",
       "      <td>2015.000000</td>\n",
       "      <td>1.000000</td>\n",
       "      <td>7.381689e+00</td>\n",
       "      <td>6.395435</td>\n",
       "      <td>20284.000000</td>\n",
       "    </tr>\n",
       "  </tbody>\n",
       "</table>\n",
       "</div>"
      ],
      "text/plain": [
       "       Date of Birth  Photo Taken Date         Gender    Face Score   \n",
       "count  460723.000000     460723.000000  452261.000000  4.607230e+05  \\\n",
       "mean   718987.731774       2005.461555       0.581996          -inf   \n",
       "std     13253.963535          9.054475       0.493231           NaN   \n",
       "min        47.000000       1961.000000       0.000000          -inf   \n",
       "25%    716370.000000       2004.000000       0.000000  1.757891e+00   \n",
       "50%    719935.000000       2008.000000       1.000000  2.980097e+00   \n",
       "75%    723073.000000       2011.000000       1.000000  4.006376e+00   \n",
       "max    734963.000000       2015.000000       1.000000  7.381689e+00   \n",
       "\n",
       "       Second Face Score       Celeb ID  \n",
       "count      213797.000000  460723.000000  \n",
       "mean            2.452904   10116.802404  \n",
       "std             1.064432    5742.153266  \n",
       "min             0.730926       1.000000  \n",
       "25%             1.583692    5294.000000  \n",
       "50%             2.355163   10066.000000  \n",
       "75%             3.228071   14922.000000  \n",
       "max             6.395435   20284.000000  "
      ]
     },
     "execution_count": 50,
     "metadata": {},
     "output_type": "execute_result"
    }
   ],
   "source": [
    "# Describing the data\n",
    "data_df.describe()"
   ]
  },
  {
   "cell_type": "code",
   "execution_count": 51,
   "metadata": {},
   "outputs": [
    {
     "name": "stdout",
     "output_type": "stream",
     "text": [
      "<class 'pandas.core.frame.DataFrame'>\n",
      "RangeIndex: 460723 entries, 0 to 460722\n",
      "Data columns (total 10 columns):\n",
      " #   Column             Non-Null Count   Dtype  \n",
      "---  ------             --------------   -----  \n",
      " 0   Date of Birth      460723 non-null  int32  \n",
      " 1   Photo Taken Date   460723 non-null  uint16 \n",
      " 2   Full Img Path      460723 non-null  object \n",
      " 3   Gender             452261 non-null  float64\n",
      " 4   Celebrity Name     460723 non-null  object \n",
      " 5   Face Location      460723 non-null  object \n",
      " 6   Face Score         460723 non-null  float64\n",
      " 7   Second Face Score  213797 non-null  float64\n",
      " 8   Celeb Names        20284 non-null   object \n",
      " 9   Celeb ID           460723 non-null  uint16 \n",
      "dtypes: float64(3), int32(1), object(4), uint16(2)\n",
      "memory usage: 28.1+ MB\n"
     ]
    }
   ],
   "source": [
    "# Checking for null values in the data\n",
    "data_df.info()"
   ]
  },
  {
   "cell_type": "markdown",
   "metadata": {},
   "source": [
    "### Data Cleaning <a id='clean'></a>"
   ]
  },
  {
   "cell_type": "code",
   "execution_count": 52,
   "metadata": {},
   "outputs": [
    {
     "name": "stdout",
     "output_type": "stream",
     "text": [
      "Total no. of records with no face detected removed: 62302\n",
      "Total no. of records after removing records with no face detected: 398421\n"
     ]
    }
   ],
   "source": [
    "# Removing pictures with no face detected\n",
    "data_df = data_df[data_df[\"Face Score\"] != -np.inf]\n",
    "print(\"Total no. of records with no face detected removed:\", records - len(data_df))\n",
    "records = len(data_df)  # Updating the total number of records\n",
    "print(\"Total no. of records after removing records with no face detected:\", records)"
   ]
  },
  {
   "cell_type": "code",
   "execution_count": 53,
   "metadata": {},
   "outputs": [
    {
     "name": "stdout",
     "output_type": "stream",
     "text": [
      "Total no. of records with more than one face detected removed: 213797\n",
      "Total no. of records after removing pictures with more the one face: 184624\n"
     ]
    }
   ],
   "source": [
    "# Removing pictures with more than one face detected\n",
    "data_df = data_df[data_df[\"Second Face Score\"].isna()]\n",
    "print(\n",
    "    \"Total no. of records with more than one face detected removed:\",\n",
    "    records - len(data_df),\n",
    ")\n",
    "records = len(data_df)  # Updating the total number of records\n",
    "print(\"Total no. of records after removing pictures with more the one face:\", records)"
   ]
  },
  {
   "cell_type": "code",
   "execution_count": 54,
   "metadata": {},
   "outputs": [
    {
     "name": "stdout",
     "output_type": "stream",
     "text": [
      "Total no. of records with low face scores removed: 89390\n",
      "Total no. of records after removing pictures with low face scores: 95234\n"
     ]
    }
   ],
   "source": [
    "# Removing pictures with low face scores\n",
    "data_df = data_df[data_df[\"Face Score\"] >= 3]\n",
    "print(\n",
    "    \"Total no. of records with low face scores removed:\",\n",
    "    records - len(data_df),\n",
    ")\n",
    "records = len(data_df)  # Updating the total number of records\n",
    "print(\"Total no. of records after removing pictures with low face scores:\", records)"
   ]
  },
  {
   "cell_type": "code",
   "execution_count": 55,
   "metadata": {},
   "outputs": [],
   "source": [
    "# Creating a function to extract first index of an array\n",
    "def extract_data(arr):\n",
    "    return arr[0]"
   ]
  },
  {
   "cell_type": "code",
   "execution_count": 56,
   "metadata": {},
   "outputs": [],
   "source": [
    "# Extracting the data from the array columns of the dataframe\n",
    "data_df[\"Celebrity Name\"] = data_df[\"Celebrity Name\"].apply(extract_data)\n",
    "data_df[\"Full Img Path\"] = data_df[\"Full Img Path\"].apply(extract_data)"
   ]
  },
  {
   "cell_type": "code",
   "execution_count": 57,
   "metadata": {},
   "outputs": [],
   "source": [
    "# Dropping the unnecessary columns from the dataframe\n",
    "data_df.drop(\n",
    "    [\"Celeb ID\", \"Celeb Names\", \"Face Score\", \"Second Face Score\", \"Face Location\"],\n",
    "    axis=1,\n",
    "    inplace=True,\n",
    ")"
   ]
  },
  {
   "cell_type": "code",
   "execution_count": 58,
   "metadata": {},
   "outputs": [],
   "source": [
    "# Creating a function to convert the matlab serial date number to python date time object\n",
    "def convert_date(date_number):\n",
    "    str_date = str(date_number)\n",
    "    # If the length of the string is 4, then the date is in the format YYYY\n",
    "    if len(str_date) == 4:\n",
    "        full_date = datetime.strptime(str_date, \"%Y\")\n",
    "        return full_date.strftime(\"%Y\")\n",
    "    else:\n",
    "        try:\n",
    "            date_time = (\n",
    "                datetime.fromordinal(int(date_number))\n",
    "                + timedelta(days=date_number % 1)\n",
    "                - timedelta(days=366)\n",
    "            )\n",
    "            return date_time\n",
    "        except OverflowError:\n",
    "            return pd.NaT"
   ]
  },
  {
   "cell_type": "code",
   "execution_count": 59,
   "metadata": {},
   "outputs": [],
   "source": [
    "# Converting the matlab serial date number to python date time object\n",
    "data_df[\"Date of Birth\"] = data_df[\"Date of Birth\"].apply(convert_date)"
   ]
  },
  {
   "cell_type": "code",
   "execution_count": 60,
   "metadata": {},
   "outputs": [],
   "source": [
    "# Converting the Photo Taken Date to python year date time object\n",
    "data_df[\"Photo Taken Date\"] = data_df[\"Photo Taken Date\"].apply(convert_date)"
   ]
  },
  {
   "cell_type": "code",
   "execution_count": 61,
   "metadata": {},
   "outputs": [],
   "source": [
    "# Creating a function to calculate the age of the celebrity\n",
    "def calculate_age(born, photo_taken):\n",
    "    photo_taken = datetime.strptime(photo_taken, \"%Y\")\n",
    "    try:\n",
    "        return (\n",
    "            photo_taken.year\n",
    "            - born.year\n",
    "            - ((photo_taken.month, photo_taken.day) < (born.month, born.day))\n",
    "        )\n",
    "    except AttributeError:\n",
    "        return np.nan"
   ]
  },
  {
   "cell_type": "code",
   "execution_count": 62,
   "metadata": {},
   "outputs": [],
   "source": [
    "# Calculating the age of the celebrity\n",
    "data_df[\"Age at Photo\"] = data_df.apply(\n",
    "    lambda x: calculate_age(x[\"Date of Birth\"], x[\"Photo Taken Date\"]), axis=1\n",
    ")\n",
    "# Changing the datatype of the age column to integer\n",
    "data_df[\"Age at Photo\"] = data_df[\"Age at Photo\"].astype(\"Int64\")"
   ]
  },
  {
   "cell_type": "code",
   "execution_count": 63,
   "metadata": {},
   "outputs": [],
   "source": [
    "# Dropping the Date of Birth and Photo Taken Date columns\n",
    "data_df.drop([\"Date of Birth\", \"Photo Taken Date\"], axis=1, inplace=True)"
   ]
  },
  {
   "cell_type": "code",
   "execution_count": 68,
   "metadata": {},
   "outputs": [
    {
     "name": "stdout",
     "output_type": "stream",
     "text": [
      "Total no. of records with null values removed: 1734\n",
      "Total no. of records after removing null values: 93500\n"
     ]
    }
   ],
   "source": [
    "# Dropping any rows with null values\n",
    "data_df.dropna(inplace=True)\n",
    "print(\"Total no. of records with null values removed:\", records - len(data_df))\n",
    "records = len(data_df)  # Updating the total number of records\n",
    "print(\"Total no. of records after removing null values:\", len(data_df))"
   ]
  },
  {
   "cell_type": "code",
   "execution_count": 69,
   "metadata": {},
   "outputs": [],
   "source": [
    "# Resetting the index of the dataframe\n",
    "data_df.reset_index(drop=True, inplace=True)"
   ]
  },
  {
   "cell_type": "code",
   "execution_count": 70,
   "metadata": {},
   "outputs": [
    {
     "data": {
      "text/html": [
       "<div>\n",
       "<style scoped>\n",
       "    .dataframe tbody tr th:only-of-type {\n",
       "        vertical-align: middle;\n",
       "    }\n",
       "\n",
       "    .dataframe tbody tr th {\n",
       "        vertical-align: top;\n",
       "    }\n",
       "\n",
       "    .dataframe thead th {\n",
       "        text-align: right;\n",
       "    }\n",
       "</style>\n",
       "<table border=\"1\" class=\"dataframe\">\n",
       "  <thead>\n",
       "    <tr style=\"text-align: right;\">\n",
       "      <th></th>\n",
       "      <th>Full Img Path</th>\n",
       "      <th>Gender</th>\n",
       "      <th>Celebrity Name</th>\n",
       "      <th>Age at Photo</th>\n",
       "    </tr>\n",
       "  </thead>\n",
       "  <tbody>\n",
       "    <tr>\n",
       "      <th>31700</th>\n",
       "      <td>42/nm0005042_rm1011005696_1963-6-6_2012.jpg</td>\n",
       "      <td>1.0</td>\n",
       "      <td>Jason Isaacs</td>\n",
       "      <td>48</td>\n",
       "    </tr>\n",
       "    <tr>\n",
       "      <th>4920</th>\n",
       "      <td>86/nm0000186_rm3272907520_1946-1-20_2001.jpg</td>\n",
       "      <td>1.0</td>\n",
       "      <td>David Lynch</td>\n",
       "      <td>54</td>\n",
       "    </tr>\n",
       "    <tr>\n",
       "      <th>40330</th>\n",
       "      <td>87/nm1406387_rm2436406016_1966-11-19_2005.jpg</td>\n",
       "      <td>1.0</td>\n",
       "      <td>Rocco DiSpirito</td>\n",
       "      <td>38</td>\n",
       "    </tr>\n",
       "    <tr>\n",
       "      <th>66975</th>\n",
       "      <td>38/nm0947338_rm3200354304_1989-3-11_2009.jpg</td>\n",
       "      <td>1.0</td>\n",
       "      <td>Anton Yelchin</td>\n",
       "      <td>19</td>\n",
       "    </tr>\n",
       "    <tr>\n",
       "      <th>46923</th>\n",
       "      <td>20/nm0517820_rm3248002048_1986-7-2_2006.jpg</td>\n",
       "      <td>0.0</td>\n",
       "      <td>Lindsay Lohan</td>\n",
       "      <td>19</td>\n",
       "    </tr>\n",
       "  </tbody>\n",
       "</table>\n",
       "</div>"
      ],
      "text/plain": [
       "                                       Full Img Path  Gender   Celebrity Name   \n",
       "31700    42/nm0005042_rm1011005696_1963-6-6_2012.jpg     1.0     Jason Isaacs  \\\n",
       "4920    86/nm0000186_rm3272907520_1946-1-20_2001.jpg     1.0      David Lynch   \n",
       "40330  87/nm1406387_rm2436406016_1966-11-19_2005.jpg     1.0  Rocco DiSpirito   \n",
       "66975   38/nm0947338_rm3200354304_1989-3-11_2009.jpg     1.0    Anton Yelchin   \n",
       "46923    20/nm0517820_rm3248002048_1986-7-2_2006.jpg     0.0    Lindsay Lohan   \n",
       "\n",
       "       Age at Photo  \n",
       "31700            48  \n",
       "4920             54  \n",
       "40330            38  \n",
       "66975            19  \n",
       "46923            19  "
      ]
     },
     "execution_count": 70,
     "metadata": {},
     "output_type": "execute_result"
    }
   ],
   "source": [
    "# Displaying 5 random rows of the data\n",
    "data_df.sample(5)"
   ]
  },
  {
   "cell_type": "code",
   "execution_count": 67,
   "metadata": {},
   "outputs": [
    {
     "name": "stdout",
     "output_type": "stream",
     "text": [
      "<class 'pandas.core.frame.DataFrame'>\n",
      "RangeIndex: 93500 entries, 0 to 93499\n",
      "Data columns (total 4 columns):\n",
      " #   Column          Non-Null Count  Dtype  \n",
      "---  ------          --------------  -----  \n",
      " 0   Full Img Path   93500 non-null  object \n",
      " 1   Gender          93500 non-null  float64\n",
      " 2   Celebrity Name  93500 non-null  object \n",
      " 3   Age at Photo    93500 non-null  Int64  \n",
      "dtypes: Int64(1), float64(1), object(2)\n",
      "memory usage: 2.9+ MB\n"
     ]
    }
   ],
   "source": [
    "# Checking for null values in the data\n",
    "data_df.info()"
   ]
  }
 ],
 "metadata": {
  "kernelspec": {
   "display_name": "Python 3",
   "language": "python",
   "name": "python3"
  },
  "language_info": {
   "codemirror_mode": {
    "name": "ipython",
    "version": 3
   },
   "file_extension": ".py",
   "mimetype": "text/x-python",
   "name": "python",
   "nbconvert_exporter": "python",
   "pygments_lexer": "ipython3",
   "version": "3.10.13"
  },
  "orig_nbformat": 4
 },
 "nbformat": 4,
 "nbformat_minor": 2
}
