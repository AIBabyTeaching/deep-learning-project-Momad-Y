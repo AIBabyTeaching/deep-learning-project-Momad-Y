{
 "cells": [
  {
   "attachments": {},
   "cell_type": "markdown",
   "metadata": {},
   "source": [
    "# Celebrity Look a Like CNN DL Project\n",
    "\n",
    "#### Mohamed Youssef - 211001821\n"
   ]
  },
  {
   "attachments": {},
   "cell_type": "markdown",
   "metadata": {},
   "source": [
    "## Index"
   ]
  },
  {
   "attachments": {},
   "cell_type": "markdown",
   "metadata": {},
   "source": [
    "* [Including Necessary Libraries](#libs)\n",
    "<br>\n",
    "* [Disabling Warnings and Limiting GPU Usage](#warn)\n",
    "<br>\n",
    "* [Data Preprocessing](#dataset)"
   ]
  },
  {
   "attachments": {},
   "cell_type": "markdown",
   "metadata": {},
   "source": [
    "## Including Necessary Libraries <a id='libs'></a>\n"
   ]
  },
  {
   "cell_type": "code",
   "execution_count": null,
   "metadata": {},
   "outputs": [],
   "source": [
    "# Python built-in libraries\n",
    "from datetime import datetime, timedelta\n",
    "import time\n",
    "import warnings\n",
    "import os\n",
    "\n",
    "# Libraries for preprocessing and visualizing the data\n",
    "import scipy.io\n",
    "import numpy as np\n",
    "import pandas as pd\n",
    "import matplotlib.pyplot as plt\n",
    "\n",
    "# OpenCV library for image processing\n",
    "import cv2\n",
    "\n",
    "# Tensorflow and Keras libraries for deep learning models\n",
    "import tensorflow as tf\n",
    "\n",
    "import keras\n",
    "from keras.preprocessing import image\n",
    "from keras.callbacks import ModelCheckpoint, EarlyStopping\n",
    "from keras.layers import (\n",
    "    Dense,\n",
    "    Activation,\n",
    "    Dropout,\n",
    "    Flatten,\n",
    "    Input,\n",
    "    Convolution2D,\n",
    "    ZeroPadding2D,\n",
    "    MaxPooling2D,\n",
    "    Activation,\n",
    ")\n",
    "from keras.layers import Conv2D, AveragePooling2D\n",
    "from keras.models import Model, Sequential\n",
    "from keras import metrics\n",
    "from keras.models import model_from_json\n",
    "from keras import backend as K\n",
    "\n",
    "\n",
    "# Sklearn train test split function\n",
    "from sklearn.model_selection import train_test_split"
   ]
  },
  {
   "cell_type": "markdown",
   "metadata": {},
   "source": [
    "## Disabling Warnings and Limiting GPU Usage <a id='warn'></a>"
   ]
  },
  {
   "cell_type": "code",
   "execution_count": 2,
   "metadata": {},
   "outputs": [],
   "source": [
    "# Disabling warnings\n",
    "def warn(*args, **kwargs):\n",
    "    pass\n",
    "\n",
    "warnings.warn = warn"
   ]
  },
  {
   "cell_type": "code",
   "execution_count": null,
   "metadata": {},
   "outputs": [],
   "source": [
    "# Setting the second GPU as the default GPU for training\n",
    "os.environ[\"CUDA_VISIBLE_DEVICES\"] = \"1\"\n",
    "\n",
    "# Setting the configuration of the GPU\n",
    "config = tf.ConfigProto()\n",
    "\n",
    "# Allowing the GPU memory to grow to prevent memory overflow\n",
    "config.gpu_options.allow_growth = True\n",
    "\n",
    "# Setting the session with the above configuration\n",
    "session = tf.Session(config=config)\n",
    "K.set_session(session)"
   ]
  },
  {
   "attachments": {},
   "cell_type": "markdown",
   "metadata": {},
   "source": [
    "## Data Preprocessing <a id='dataset'></a>"
   ]
  }
 ],
 "metadata": {
  "kernelspec": {
   "display_name": "Python 3",
   "language": "python",
   "name": "python3"
  },
  "language_info": {
   "codemirror_mode": {
    "name": "ipython",
    "version": 3
   },
   "file_extension": ".py",
   "mimetype": "text/x-python",
   "name": "python",
   "nbconvert_exporter": "python",
   "pygments_lexer": "ipython3",
   "version": "3.11.3"
  },
  "orig_nbformat": 4
 },
 "nbformat": 4,
 "nbformat_minor": 2
}
