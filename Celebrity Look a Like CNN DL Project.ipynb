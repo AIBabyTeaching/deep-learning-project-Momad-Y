{
 "cells": [
  {
   "attachments": {},
   "cell_type": "markdown",
   "metadata": {},
   "source": [
    "# Celebrity Look a Like CNN DL Project\n",
    "\n",
    "#### Mohamed Youssef - 211001821\n"
   ]
  },
  {
   "attachments": {},
   "cell_type": "markdown",
   "metadata": {},
   "source": [
    "## Index"
   ]
  },
  {
   "attachments": {},
   "cell_type": "markdown",
   "metadata": {},
   "source": [
    "* [Including Necessary Libraries](#libs)\n",
    "<br>\n",
    "* [Disabling Warnings and Limiting GPU Usage](#warn)\n",
    "<br>\n",
    "* [Data Preprocessing](#dataset)\n",
    "<br>\n",
    "    * [Reading Meta Data](#metadata)"
   ]
  },
  {
   "attachments": {},
   "cell_type": "markdown",
   "metadata": {},
   "source": [
    "## Including Necessary Libraries <a id='libs'></a>\n"
   ]
  },
  {
   "cell_type": "code",
   "execution_count": 14,
   "metadata": {},
   "outputs": [],
   "source": [
    "# Python built-in libraries\n",
    "from datetime import datetime, timedelta\n",
    "import time\n",
    "import warnings\n",
    "import os\n",
    "\n",
    "# Libraries for preprocessing and visualizing the data\n",
    "import scipy.io\n",
    "import numpy as np\n",
    "import pandas as pd\n",
    "import matplotlib.pyplot as plt\n",
    "\n",
    "# OpenCV library for image processing\n",
    "import cv2\n",
    "\n",
    "# Tensorflow and Keras libraries for deep learning models\n",
    "import tensorflow as tf\n",
    "\n",
    "import keras\n",
    "from keras.preprocessing import image\n",
    "from keras.callbacks import ModelCheckpoint, EarlyStopping\n",
    "from keras.layers import (\n",
    "    Dense,\n",
    "    Activation,\n",
    "    Dropout,\n",
    "    Flatten,\n",
    "    Input,\n",
    "    Convolution2D,\n",
    "    ZeroPadding2D,\n",
    "    MaxPooling2D,\n",
    "    Activation,\n",
    ")\n",
    "from keras.layers import Conv2D, AveragePooling2D\n",
    "from keras.models import Model, Sequential\n",
    "from keras import metrics\n",
    "from keras.models import model_from_json\n",
    "\n",
    "\n",
    "# Sklearn train test split function\n",
    "from sklearn.model_selection import train_test_split"
   ]
  },
  {
   "cell_type": "markdown",
   "metadata": {},
   "source": [
    "## Disabling Warnings and Limiting GPU Usage <a id='warn'></a>"
   ]
  },
  {
   "cell_type": "code",
   "execution_count": 15,
   "metadata": {},
   "outputs": [],
   "source": [
    "# Disabling warnings\n",
    "def warn(*args, **kwargs):\n",
    "    pass\n",
    "\n",
    "\n",
    "warnings.warn = warn\n",
    "\n",
    "# Setting the current directory path\n",
    "path = os.getcwd()"
   ]
  },
  {
   "cell_type": "code",
   "execution_count": 16,
   "metadata": {},
   "outputs": [
    {
     "name": "stdout",
     "output_type": "stream",
     "text": [
      "Num GPUs Available:  []\n"
     ]
    }
   ],
   "source": [
    "# Setting the second GPU as the default GPU for training\n",
    "os.environ[\"CUDA_VISIBLE_DEVICES\"] = \"1\"\n",
    "\n",
    "# Setting the configuration of the GPU\n",
    "gpus = tf.config.experimental.list_physical_devices(\"GPU\")\n",
    "print(\"Num GPUs Available: \", gpus)\n",
    "if gpus:\n",
    "    try:\n",
    "        tf.config.experimental.set_visible_devices(gpus[1], \"GPU\")\n",
    "        tf.config.experimental.set_memory_growth(gpus[1], True)\n",
    "    except RuntimeError as e:\n",
    "        print(e)\n",
    "\n",
    "# Setting the session with the above configuration\n",
    "sess = tf.compat.v1.Session()\n",
    "tf.compat.v1.keras.backend.set_session(sess)"
   ]
  },
  {
   "attachments": {},
   "cell_type": "markdown",
   "metadata": {},
   "source": [
    "## Data Preprocessing <a id='dataset'></a>"
   ]
  },
  {
   "cell_type": "markdown",
   "metadata": {},
   "source": [
    "### Reading Meta Data <a id='metadata'></a>"
   ]
  },
  {
   "cell_type": "code",
   "execution_count": 17,
   "metadata": {},
   "outputs": [],
   "source": [
    "# Loading the mat file containing the data\n",
    "data_mat = scipy.io.loadmat(path + \"/Data/imdb_crop/imdb_crop/imdb.mat\")"
   ]
  },
  {
   "cell_type": "code",
   "execution_count": 18,
   "metadata": {},
   "outputs": [
    {
     "name": "stdout",
     "output_type": "stream",
     "text": [
      "Total no. of records:  460723\n"
     ]
    }
   ],
   "source": [
    "# Getting the total number of records in the data\n",
    "records = data_mat[\"imdb\"][0][0][0].shape[1]\n",
    "print(\"Total no. of records: \", records)"
   ]
  },
  {
   "cell_type": "code",
   "execution_count": 53,
   "metadata": {},
   "outputs": [
    {
     "name": "stdout",
     "output_type": "stream",
     "text": [
      "Total no. of features:  10\n"
     ]
    }
   ],
   "source": [
    "# Getting the column names of the data\n",
    "features = data_mat[\"imdb\"][0][0].dtype\n",
    "features = list(features.names)\n",
    "print(\"Total no. of features: \", len(features))"
   ]
  },
  {
   "cell_type": "code",
   "execution_count": 56,
   "metadata": {},
   "outputs": [
    {
     "name": "stdout",
     "output_type": "stream",
     "text": [
      "Current Features Names:\n",
      " ['dob', 'photo_taken', 'full_path', 'gender', 'name', 'face_location', 'face_score', 'second_face_score', 'celeb_names', 'celeb_id']\n",
      "New Features Names:\n",
      " ['Date of Birth', 'Photo Taken Date', 'Full Img Path', 'Gender', 'Celebrity Name', 'Face Location', 'Face Score', 'Second Face Score', 'Celeb Names', 'Celeb ID']\n"
     ]
    }
   ],
   "source": [
    "# Rename the columns of the data\n",
    "print(\"Current Features Names:\\n\", features)\n",
    "features[0] = \"Date of Birth\"\n",
    "features[1] = \"Photo Taken Date\"\n",
    "features[2] = \"Full Img Path\"\n",
    "features[3] = \"Gender\"\n",
    "features[4] = \"Celebrity Name\"\n",
    "features[5] = \"Face Location\"\n",
    "features[6] = \"Face Score\"\n",
    "features[7] = \"Second Face Score\"\n",
    "features[8] = \"Celeb Names\"\n",
    "features[9] = \"Celeb ID\"\n",
    "print(\"New Features Names:\\n\", features)"
   ]
  },
  {
   "cell_type": "markdown",
   "metadata": {},
   "source": [
    "### Creating Data Frame <a id='dataframe'></a>"
   ]
  }
 ],
 "metadata": {
  "kernelspec": {
   "display_name": "Python 3",
   "language": "python",
   "name": "python3"
  },
  "language_info": {
   "codemirror_mode": {
    "name": "ipython",
    "version": 3
   },
   "file_extension": ".py",
   "mimetype": "text/x-python",
   "name": "python",
   "nbconvert_exporter": "python",
   "pygments_lexer": "ipython3",
   "version": "3.11.3"
  },
  "orig_nbformat": 4
 },
 "nbformat": 4,
 "nbformat_minor": 2
}
